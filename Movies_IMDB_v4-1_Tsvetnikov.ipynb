{
 "cells": [
  {
   "cell_type": "code",
   "execution_count": 57,
   "metadata": {
    "_cell_guid": "b1076dfc-b9ad-4769-8c92-a6c4dae69d19",
    "_uuid": "8f2839f25d086af736a60e9eeb907d3b93b6e0e5",
    "colab": {},
    "colab_type": "code",
    "id": "U2D2gTdJVp90"
   },
   "outputs": [],
   "source": [
    "import numpy as np\n",
    "import pandas as pd\n",
    "import seaborn as sns\n",
    "import matplotlib.pyplot as plt\n",
    "from collections import Counter\n",
    "\n",
    "import datetime as dt\n",
    "import itertools"
   ]
  },
  {
   "cell_type": "code",
   "execution_count": 58,
   "metadata": {
    "_cell_guid": "79c7e3d0-c299-4dcb-8224-4455121ee9b0",
    "_uuid": "d629ff2d2480ee46fbb7e2d37f6b5fab8052498a",
    "colab": {},
    "colab_type": "code",
    "id": "oyGfxL3eVp9-"
   },
   "outputs": [],
   "source": [
    "data = pd.read_csv('movie_bd_v5.csv')"
   ]
  },
  {
   "cell_type": "code",
   "execution_count": 4,
   "metadata": {
    "colab": {},
    "colab_type": "code",
    "id": "CoYUnagMVp-C"
   },
   "outputs": [
    {
     "data": {
      "text/html": [
       "<div>\n",
       "<style scoped>\n",
       "    .dataframe tbody tr th:only-of-type {\n",
       "        vertical-align: middle;\n",
       "    }\n",
       "\n",
       "    .dataframe tbody tr th {\n",
       "        vertical-align: top;\n",
       "    }\n",
       "\n",
       "    .dataframe thead th {\n",
       "        text-align: right;\n",
       "    }\n",
       "</style>\n",
       "<table border=\"1\" class=\"dataframe\">\n",
       "  <thead>\n",
       "    <tr style=\"text-align: right;\">\n",
       "      <th></th>\n",
       "      <th>budget</th>\n",
       "      <th>revenue</th>\n",
       "      <th>runtime</th>\n",
       "      <th>vote_average</th>\n",
       "      <th>release_year</th>\n",
       "    </tr>\n",
       "  </thead>\n",
       "  <tbody>\n",
       "    <tr>\n",
       "      <th>count</th>\n",
       "      <td>1.889000e+03</td>\n",
       "      <td>1.889000e+03</td>\n",
       "      <td>1889.000000</td>\n",
       "      <td>1889.000000</td>\n",
       "      <td>1889.000000</td>\n",
       "    </tr>\n",
       "    <tr>\n",
       "      <th>mean</th>\n",
       "      <td>5.431083e+07</td>\n",
       "      <td>1.553653e+08</td>\n",
       "      <td>109.658549</td>\n",
       "      <td>6.140762</td>\n",
       "      <td>2007.860773</td>\n",
       "    </tr>\n",
       "    <tr>\n",
       "      <th>std</th>\n",
       "      <td>4.858721e+07</td>\n",
       "      <td>2.146698e+08</td>\n",
       "      <td>18.017041</td>\n",
       "      <td>0.764763</td>\n",
       "      <td>4.468841</td>\n",
       "    </tr>\n",
       "    <tr>\n",
       "      <th>min</th>\n",
       "      <td>5.000000e+06</td>\n",
       "      <td>2.033165e+06</td>\n",
       "      <td>63.000000</td>\n",
       "      <td>3.300000</td>\n",
       "      <td>2000.000000</td>\n",
       "    </tr>\n",
       "    <tr>\n",
       "      <th>25%</th>\n",
       "      <td>2.000000e+07</td>\n",
       "      <td>3.456058e+07</td>\n",
       "      <td>97.000000</td>\n",
       "      <td>5.600000</td>\n",
       "      <td>2004.000000</td>\n",
       "    </tr>\n",
       "    <tr>\n",
       "      <th>50%</th>\n",
       "      <td>3.800000e+07</td>\n",
       "      <td>8.361541e+07</td>\n",
       "      <td>107.000000</td>\n",
       "      <td>6.100000</td>\n",
       "      <td>2008.000000</td>\n",
       "    </tr>\n",
       "    <tr>\n",
       "      <th>75%</th>\n",
       "      <td>7.200000e+07</td>\n",
       "      <td>1.782626e+08</td>\n",
       "      <td>120.000000</td>\n",
       "      <td>6.600000</td>\n",
       "      <td>2012.000000</td>\n",
       "    </tr>\n",
       "    <tr>\n",
       "      <th>max</th>\n",
       "      <td>3.800000e+08</td>\n",
       "      <td>2.781506e+09</td>\n",
       "      <td>214.000000</td>\n",
       "      <td>8.100000</td>\n",
       "      <td>2015.000000</td>\n",
       "    </tr>\n",
       "  </tbody>\n",
       "</table>\n",
       "</div>"
      ],
      "text/plain": [
       "             budget       revenue      runtime  vote_average  release_year\n",
       "count  1.889000e+03  1.889000e+03  1889.000000   1889.000000   1889.000000\n",
       "mean   5.431083e+07  1.553653e+08   109.658549      6.140762   2007.860773\n",
       "std    4.858721e+07  2.146698e+08    18.017041      0.764763      4.468841\n",
       "min    5.000000e+06  2.033165e+06    63.000000      3.300000   2000.000000\n",
       "25%    2.000000e+07  3.456058e+07    97.000000      5.600000   2004.000000\n",
       "50%    3.800000e+07  8.361541e+07   107.000000      6.100000   2008.000000\n",
       "75%    7.200000e+07  1.782626e+08   120.000000      6.600000   2012.000000\n",
       "max    3.800000e+08  2.781506e+09   214.000000      8.100000   2015.000000"
      ]
     },
     "execution_count": 4,
     "metadata": {},
     "output_type": "execute_result"
    }
   ],
   "source": [
    "data.describe()"
   ]
  },
  {
   "cell_type": "markdown",
   "metadata": {
    "colab_type": "text",
    "id": "DTIt7ezGVp-G"
   },
   "source": [
    "# Предобработка"
   ]
  },
  {
   "cell_type": "code",
   "execution_count": 59,
   "metadata": {
    "colab": {},
    "colab_type": "code",
    "id": "jNb40DwKVp-H"
   },
   "outputs": [
    {
     "data": {
      "text/html": [
       "<div>\n",
       "<style scoped>\n",
       "    .dataframe tbody tr th:only-of-type {\n",
       "        vertical-align: middle;\n",
       "    }\n",
       "\n",
       "    .dataframe tbody tr th {\n",
       "        vertical-align: top;\n",
       "    }\n",
       "\n",
       "    .dataframe thead th {\n",
       "        text-align: right;\n",
       "    }\n",
       "</style>\n",
       "<table border=\"1\" class=\"dataframe\">\n",
       "  <thead>\n",
       "    <tr style=\"text-align: right;\">\n",
       "      <th></th>\n",
       "      <th>imdb_id</th>\n",
       "      <th>budget</th>\n",
       "      <th>revenue</th>\n",
       "      <th>original_title</th>\n",
       "      <th>cast</th>\n",
       "      <th>director</th>\n",
       "      <th>tagline</th>\n",
       "      <th>overview</th>\n",
       "      <th>runtime</th>\n",
       "      <th>genres</th>\n",
       "      <th>...</th>\n",
       "      <th>release_date</th>\n",
       "      <th>vote_average</th>\n",
       "      <th>release_year</th>\n",
       "      <th>cast_new</th>\n",
       "      <th>director_new</th>\n",
       "      <th>genres_new</th>\n",
       "      <th>profit</th>\n",
       "      <th>release_date_new</th>\n",
       "      <th>month</th>\n",
       "      <th>seasons</th>\n",
       "    </tr>\n",
       "  </thead>\n",
       "  <tbody>\n",
       "    <tr>\n",
       "      <th>118</th>\n",
       "      <td>tt0816692</td>\n",
       "      <td>165000000</td>\n",
       "      <td>621752480</td>\n",
       "      <td>Interstellar</td>\n",
       "      <td>Matthew McConaughey|Jessica Chastain|Anne Hath...</td>\n",
       "      <td>Christopher Nolan</td>\n",
       "      <td>Mankind was born on Earth. It was never meant ...</td>\n",
       "      <td>Interstellar chronicles the adventures of a gr...</td>\n",
       "      <td>169</td>\n",
       "      <td>Adventure|Drama|Science Fiction</td>\n",
       "      <td>...</td>\n",
       "      <td>11/5/2014</td>\n",
       "      <td>8.0</td>\n",
       "      <td>2014</td>\n",
       "      <td>[Matthew McConaughey, Jessica Chastain, Anne H...</td>\n",
       "      <td>[Christopher Nolan]</td>\n",
       "      <td>[Adventure, Drama, Science Fiction]</td>\n",
       "      <td>456752480</td>\n",
       "      <td>2014-11-05</td>\n",
       "      <td>11</td>\n",
       "      <td>outumn</td>\n",
       "    </tr>\n",
       "    <tr>\n",
       "      <th>119</th>\n",
       "      <td>tt2015381</td>\n",
       "      <td>170000000</td>\n",
       "      <td>773312399</td>\n",
       "      <td>Guardians of the Galaxy</td>\n",
       "      <td>Chris Pratt|Zoe Saldana|Dave Bautista|Vin Dies...</td>\n",
       "      <td>James Gunn</td>\n",
       "      <td>All heroes start somewhere.</td>\n",
       "      <td>Light years from Earth, 26 years after being a...</td>\n",
       "      <td>121</td>\n",
       "      <td>Action|Science Fiction|Adventure</td>\n",
       "      <td>...</td>\n",
       "      <td>7/30/2014</td>\n",
       "      <td>7.9</td>\n",
       "      <td>2014</td>\n",
       "      <td>[Chris Pratt, Zoe Saldana, Dave Bautista, Vin ...</td>\n",
       "      <td>[James Gunn]</td>\n",
       "      <td>[Action, Science Fiction, Adventure]</td>\n",
       "      <td>603312399</td>\n",
       "      <td>2014-07-30</td>\n",
       "      <td>7</td>\n",
       "      <td>summer</td>\n",
       "    </tr>\n",
       "    <tr>\n",
       "      <th>120</th>\n",
       "      <td>tt1843866</td>\n",
       "      <td>170000000</td>\n",
       "      <td>714766572</td>\n",
       "      <td>Captain America: The Winter Soldier</td>\n",
       "      <td>Chris Evans|Scarlett Johansson|Sebastian Stan|...</td>\n",
       "      <td>Joe Russo|Anthony Russo</td>\n",
       "      <td>In heroes we trust.</td>\n",
       "      <td>After the cataclysmic events in New York with ...</td>\n",
       "      <td>136</td>\n",
       "      <td>Action|Adventure|Science Fiction</td>\n",
       "      <td>...</td>\n",
       "      <td>3/20/2014</td>\n",
       "      <td>7.6</td>\n",
       "      <td>2014</td>\n",
       "      <td>[Chris Evans, Scarlett Johansson, Sebastian St...</td>\n",
       "      <td>[Joe Russo, Anthony Russo]</td>\n",
       "      <td>[Action, Adventure, Science Fiction]</td>\n",
       "      <td>544766572</td>\n",
       "      <td>2014-03-20</td>\n",
       "      <td>3</td>\n",
       "      <td>spring</td>\n",
       "    </tr>\n",
       "    <tr>\n",
       "      <th>121</th>\n",
       "      <td>tt2911666</td>\n",
       "      <td>20000000</td>\n",
       "      <td>78739897</td>\n",
       "      <td>John Wick</td>\n",
       "      <td>Keanu Reeves|Michael Nyqvist|Alfie Allen|Wille...</td>\n",
       "      <td>Chad Stahelski|David Leitch</td>\n",
       "      <td>Don't set him off.</td>\n",
       "      <td>After the sudden death of his beloved wife, Jo...</td>\n",
       "      <td>101</td>\n",
       "      <td>Action|Thriller</td>\n",
       "      <td>...</td>\n",
       "      <td>10/22/2014</td>\n",
       "      <td>7.0</td>\n",
       "      <td>2014</td>\n",
       "      <td>[Keanu Reeves, Michael Nyqvist, Alfie Allen, W...</td>\n",
       "      <td>[Chad Stahelski, David Leitch]</td>\n",
       "      <td>[Action, Thriller]</td>\n",
       "      <td>58739897</td>\n",
       "      <td>2014-10-22</td>\n",
       "      <td>10</td>\n",
       "      <td>outumn</td>\n",
       "    </tr>\n",
       "    <tr>\n",
       "      <th>122</th>\n",
       "      <td>tt1951265</td>\n",
       "      <td>125000000</td>\n",
       "      <td>752100229</td>\n",
       "      <td>The Hunger Games: Mockingjay - Part 1</td>\n",
       "      <td>Jennifer Lawrence|Josh Hutcherson|Liam Hemswor...</td>\n",
       "      <td>Francis Lawrence</td>\n",
       "      <td>Fire burns brighter in the darkness</td>\n",
       "      <td>Katniss Everdeen reluctantly becomes the symbo...</td>\n",
       "      <td>123</td>\n",
       "      <td>Science Fiction|Adventure|Thriller</td>\n",
       "      <td>...</td>\n",
       "      <td>11/18/2014</td>\n",
       "      <td>6.6</td>\n",
       "      <td>2014</td>\n",
       "      <td>[Jennifer Lawrence, Josh Hutcherson, Liam Hems...</td>\n",
       "      <td>[Francis Lawrence]</td>\n",
       "      <td>[Science Fiction, Adventure, Thriller]</td>\n",
       "      <td>627100229</td>\n",
       "      <td>2014-11-18</td>\n",
       "      <td>11</td>\n",
       "      <td>outumn</td>\n",
       "    </tr>\n",
       "    <tr>\n",
       "      <th>...</th>\n",
       "      <td>...</td>\n",
       "      <td>...</td>\n",
       "      <td>...</td>\n",
       "      <td>...</td>\n",
       "      <td>...</td>\n",
       "      <td>...</td>\n",
       "      <td>...</td>\n",
       "      <td>...</td>\n",
       "      <td>...</td>\n",
       "      <td>...</td>\n",
       "      <td>...</td>\n",
       "      <td>...</td>\n",
       "      <td>...</td>\n",
       "      <td>...</td>\n",
       "      <td>...</td>\n",
       "      <td>...</td>\n",
       "      <td>...</td>\n",
       "      <td>...</td>\n",
       "      <td>...</td>\n",
       "      <td>...</td>\n",
       "      <td>...</td>\n",
       "    </tr>\n",
       "    <tr>\n",
       "      <th>234</th>\n",
       "      <td>tt2183034</td>\n",
       "      <td>13000000</td>\n",
       "      <td>45300000</td>\n",
       "      <td>Earth to Echo</td>\n",
       "      <td>Teo Halm|Astro|Resse Hartwig|Ella Wahlestedt|J...</td>\n",
       "      <td>Dave Green</td>\n",
       "      <td>No one will ever believe our story.</td>\n",
       "      <td>After a construction project begins digging in...</td>\n",
       "      <td>89</td>\n",
       "      <td>Family|Adventure|Science Fiction</td>\n",
       "      <td>...</td>\n",
       "      <td>7/2/2014</td>\n",
       "      <td>5.7</td>\n",
       "      <td>2014</td>\n",
       "      <td>[Teo Halm, Astro, Resse Hartwig, Ella Wahleste...</td>\n",
       "      <td>[Dave Green]</td>\n",
       "      <td>[Family, Adventure, Science Fiction]</td>\n",
       "      <td>32300000</td>\n",
       "      <td>2014-07-02</td>\n",
       "      <td>7</td>\n",
       "      <td>summer</td>\n",
       "    </tr>\n",
       "    <tr>\n",
       "      <th>235</th>\n",
       "      <td>tt2039393</td>\n",
       "      <td>25000000</td>\n",
       "      <td>39171130</td>\n",
       "      <td>The Gambler</td>\n",
       "      <td>Mark Wahlberg|John Goodman|Brie Larson|Michael...</td>\n",
       "      <td>Rupert Wyatt</td>\n",
       "      <td>The only way out is all in</td>\n",
       "      <td>Literature professor and gambler Jim Bennett's...</td>\n",
       "      <td>111</td>\n",
       "      <td>Thriller|Crime|Drama</td>\n",
       "      <td>...</td>\n",
       "      <td>12/25/2014</td>\n",
       "      <td>5.6</td>\n",
       "      <td>2014</td>\n",
       "      <td>[Mark Wahlberg, John Goodman, Brie Larson, Mic...</td>\n",
       "      <td>[Rupert Wyatt]</td>\n",
       "      <td>[Thriller, Crime, Drama]</td>\n",
       "      <td>14171130</td>\n",
       "      <td>2014-12-25</td>\n",
       "      <td>12</td>\n",
       "      <td>winter</td>\n",
       "    </tr>\n",
       "    <tr>\n",
       "      <th>236</th>\n",
       "      <td>tt2319580</td>\n",
       "      <td>12700000</td>\n",
       "      <td>3430018</td>\n",
       "      <td>The Grand Seduction</td>\n",
       "      <td>Brendan Gleeson|Taylor Kitsch|Gordon Pinsent|L...</td>\n",
       "      <td>Don McKellar</td>\n",
       "      <td>The small town of Tickle Cove needed a doctor....</td>\n",
       "      <td>A small fishing village must procure a local d...</td>\n",
       "      <td>112</td>\n",
       "      <td>Comedy</td>\n",
       "      <td>...</td>\n",
       "      <td>5/30/2014</td>\n",
       "      <td>6.7</td>\n",
       "      <td>2014</td>\n",
       "      <td>[Brendan Gleeson, Taylor Kitsch, Gordon Pinsen...</td>\n",
       "      <td>[Don McKellar]</td>\n",
       "      <td>[Comedy]</td>\n",
       "      <td>-9269982</td>\n",
       "      <td>2014-05-30</td>\n",
       "      <td>5</td>\n",
       "      <td>spring</td>\n",
       "    </tr>\n",
       "    <tr>\n",
       "      <th>237</th>\n",
       "      <td>tt2528814</td>\n",
       "      <td>17000000</td>\n",
       "      <td>29789000</td>\n",
       "      <td>God's Not Dead</td>\n",
       "      <td>Kevin Sorbo|Shane Harper|David A.R. White|Dean...</td>\n",
       "      <td>Harold Cronk</td>\n",
       "      <td>What do you believe?</td>\n",
       "      <td>College philosophy professor Mr. Radisson's cu...</td>\n",
       "      <td>113</td>\n",
       "      <td>Drama</td>\n",
       "      <td>...</td>\n",
       "      <td>3/21/2014</td>\n",
       "      <td>6.1</td>\n",
       "      <td>2014</td>\n",
       "      <td>[Kevin Sorbo, Shane Harper, David A.R. White, ...</td>\n",
       "      <td>[Harold Cronk]</td>\n",
       "      <td>[Drama]</td>\n",
       "      <td>12789000</td>\n",
       "      <td>2014-03-21</td>\n",
       "      <td>3</td>\n",
       "      <td>spring</td>\n",
       "    </tr>\n",
       "    <tr>\n",
       "      <th>238</th>\n",
       "      <td>tt2752758</td>\n",
       "      <td>7000000</td>\n",
       "      <td>36433975</td>\n",
       "      <td>Devil's Due</td>\n",
       "      <td>Allison Miller|Zach Gilford|Sam Anderson|Rober...</td>\n",
       "      <td>Matt Bettinelli-Olpin|Tyler Gillett</td>\n",
       "      <td>The Devil Always Gets His Due</td>\n",
       "      <td>An unexpected pregnancy takes a terrifying tur...</td>\n",
       "      <td>89</td>\n",
       "      <td>Horror</td>\n",
       "      <td>...</td>\n",
       "      <td>1/8/2014</td>\n",
       "      <td>4.5</td>\n",
       "      <td>2014</td>\n",
       "      <td>[Allison Miller, Zach Gilford, Sam Anderson, R...</td>\n",
       "      <td>[Matt Bettinelli-Olpin, Tyler Gillett]</td>\n",
       "      <td>[Horror]</td>\n",
       "      <td>29433975</td>\n",
       "      <td>2014-01-08</td>\n",
       "      <td>1</td>\n",
       "      <td>winter</td>\n",
       "    </tr>\n",
       "  </tbody>\n",
       "</table>\n",
       "<p>121 rows × 21 columns</p>\n",
       "</div>"
      ],
      "text/plain": [
       "       imdb_id     budget    revenue                         original_title  \\\n",
       "118  tt0816692  165000000  621752480                           Interstellar   \n",
       "119  tt2015381  170000000  773312399                Guardians of the Galaxy   \n",
       "120  tt1843866  170000000  714766572    Captain America: The Winter Soldier   \n",
       "121  tt2911666   20000000   78739897                              John Wick   \n",
       "122  tt1951265  125000000  752100229  The Hunger Games: Mockingjay - Part 1   \n",
       "..         ...        ...        ...                                    ...   \n",
       "234  tt2183034   13000000   45300000                          Earth to Echo   \n",
       "235  tt2039393   25000000   39171130                            The Gambler   \n",
       "236  tt2319580   12700000    3430018                    The Grand Seduction   \n",
       "237  tt2528814   17000000   29789000                         God's Not Dead   \n",
       "238  tt2752758    7000000   36433975                            Devil's Due   \n",
       "\n",
       "                                                  cast  \\\n",
       "118  Matthew McConaughey|Jessica Chastain|Anne Hath...   \n",
       "119  Chris Pratt|Zoe Saldana|Dave Bautista|Vin Dies...   \n",
       "120  Chris Evans|Scarlett Johansson|Sebastian Stan|...   \n",
       "121  Keanu Reeves|Michael Nyqvist|Alfie Allen|Wille...   \n",
       "122  Jennifer Lawrence|Josh Hutcherson|Liam Hemswor...   \n",
       "..                                                 ...   \n",
       "234  Teo Halm|Astro|Resse Hartwig|Ella Wahlestedt|J...   \n",
       "235  Mark Wahlberg|John Goodman|Brie Larson|Michael...   \n",
       "236  Brendan Gleeson|Taylor Kitsch|Gordon Pinsent|L...   \n",
       "237  Kevin Sorbo|Shane Harper|David A.R. White|Dean...   \n",
       "238  Allison Miller|Zach Gilford|Sam Anderson|Rober...   \n",
       "\n",
       "                                director  \\\n",
       "118                    Christopher Nolan   \n",
       "119                           James Gunn   \n",
       "120              Joe Russo|Anthony Russo   \n",
       "121          Chad Stahelski|David Leitch   \n",
       "122                     Francis Lawrence   \n",
       "..                                   ...   \n",
       "234                           Dave Green   \n",
       "235                         Rupert Wyatt   \n",
       "236                         Don McKellar   \n",
       "237                         Harold Cronk   \n",
       "238  Matt Bettinelli-Olpin|Tyler Gillett   \n",
       "\n",
       "                                               tagline  \\\n",
       "118  Mankind was born on Earth. It was never meant ...   \n",
       "119                        All heroes start somewhere.   \n",
       "120                                In heroes we trust.   \n",
       "121                                 Don't set him off.   \n",
       "122                Fire burns brighter in the darkness   \n",
       "..                                                 ...   \n",
       "234                No one will ever believe our story.   \n",
       "235                         The only way out is all in   \n",
       "236  The small town of Tickle Cove needed a doctor....   \n",
       "237                               What do you believe?   \n",
       "238                      The Devil Always Gets His Due   \n",
       "\n",
       "                                              overview  runtime  \\\n",
       "118  Interstellar chronicles the adventures of a gr...      169   \n",
       "119  Light years from Earth, 26 years after being a...      121   \n",
       "120  After the cataclysmic events in New York with ...      136   \n",
       "121  After the sudden death of his beloved wife, Jo...      101   \n",
       "122  Katniss Everdeen reluctantly becomes the symbo...      123   \n",
       "..                                                 ...      ...   \n",
       "234  After a construction project begins digging in...       89   \n",
       "235  Literature professor and gambler Jim Bennett's...      111   \n",
       "236  A small fishing village must procure a local d...      112   \n",
       "237  College philosophy professor Mr. Radisson's cu...      113   \n",
       "238  An unexpected pregnancy takes a terrifying tur...       89   \n",
       "\n",
       "                                 genres  ... release_date vote_average  \\\n",
       "118     Adventure|Drama|Science Fiction  ...    11/5/2014          8.0   \n",
       "119    Action|Science Fiction|Adventure  ...    7/30/2014          7.9   \n",
       "120    Action|Adventure|Science Fiction  ...    3/20/2014          7.6   \n",
       "121                     Action|Thriller  ...   10/22/2014          7.0   \n",
       "122  Science Fiction|Adventure|Thriller  ...   11/18/2014          6.6   \n",
       "..                                  ...  ...          ...          ...   \n",
       "234    Family|Adventure|Science Fiction  ...     7/2/2014          5.7   \n",
       "235                Thriller|Crime|Drama  ...   12/25/2014          5.6   \n",
       "236                              Comedy  ...    5/30/2014          6.7   \n",
       "237                               Drama  ...    3/21/2014          6.1   \n",
       "238                              Horror  ...     1/8/2014          4.5   \n",
       "\n",
       "     release_year                                           cast_new  \\\n",
       "118          2014  [Matthew McConaughey, Jessica Chastain, Anne H...   \n",
       "119          2014  [Chris Pratt, Zoe Saldana, Dave Bautista, Vin ...   \n",
       "120          2014  [Chris Evans, Scarlett Johansson, Sebastian St...   \n",
       "121          2014  [Keanu Reeves, Michael Nyqvist, Alfie Allen, W...   \n",
       "122          2014  [Jennifer Lawrence, Josh Hutcherson, Liam Hems...   \n",
       "..            ...                                                ...   \n",
       "234          2014  [Teo Halm, Astro, Resse Hartwig, Ella Wahleste...   \n",
       "235          2014  [Mark Wahlberg, John Goodman, Brie Larson, Mic...   \n",
       "236          2014  [Brendan Gleeson, Taylor Kitsch, Gordon Pinsen...   \n",
       "237          2014  [Kevin Sorbo, Shane Harper, David A.R. White, ...   \n",
       "238          2014  [Allison Miller, Zach Gilford, Sam Anderson, R...   \n",
       "\n",
       "                               director_new  \\\n",
       "118                     [Christopher Nolan]   \n",
       "119                            [James Gunn]   \n",
       "120              [Joe Russo, Anthony Russo]   \n",
       "121          [Chad Stahelski, David Leitch]   \n",
       "122                      [Francis Lawrence]   \n",
       "..                                      ...   \n",
       "234                            [Dave Green]   \n",
       "235                          [Rupert Wyatt]   \n",
       "236                          [Don McKellar]   \n",
       "237                          [Harold Cronk]   \n",
       "238  [Matt Bettinelli-Olpin, Tyler Gillett]   \n",
       "\n",
       "                                 genres_new     profit  release_date_new  \\\n",
       "118     [Adventure, Drama, Science Fiction]  456752480        2014-11-05   \n",
       "119    [Action, Science Fiction, Adventure]  603312399        2014-07-30   \n",
       "120    [Action, Adventure, Science Fiction]  544766572        2014-03-20   \n",
       "121                      [Action, Thriller]   58739897        2014-10-22   \n",
       "122  [Science Fiction, Adventure, Thriller]  627100229        2014-11-18   \n",
       "..                                      ...        ...               ...   \n",
       "234    [Family, Adventure, Science Fiction]   32300000        2014-07-02   \n",
       "235                [Thriller, Crime, Drama]   14171130        2014-12-25   \n",
       "236                                [Comedy]   -9269982        2014-05-30   \n",
       "237                                 [Drama]   12789000        2014-03-21   \n",
       "238                                [Horror]   29433975        2014-01-08   \n",
       "\n",
       "    month  seasons  \n",
       "118    11   outumn  \n",
       "119     7   summer  \n",
       "120     3   spring  \n",
       "121    10   outumn  \n",
       "122    11   outumn  \n",
       "..    ...      ...  \n",
       "234     7   summer  \n",
       "235    12   winter  \n",
       "236     5   spring  \n",
       "237     3   spring  \n",
       "238     1   winter  \n",
       "\n",
       "[121 rows x 21 columns]"
      ]
     },
     "execution_count": 59,
     "metadata": {},
     "output_type": "execute_result"
    }
   ],
   "source": [
    "data = pd.read_csv('movie_bd_v5.csv')\n",
    "\n",
    "top = 5      # количество выводимых строк датасета\n",
    "answers = {} # создадим словарь для ответов\n",
    "\n",
    "# Разделяем значения в колонках на списки\n",
    "data['cast_new'] = data.cast.apply(lambda x: x.split('|'))\n",
    "data['director_new'] = data.director.apply(lambda x: x.split('|'))\n",
    "data['genres_new'] = data.genres.apply(lambda x: x.split('|'))\n",
    "data['production_companies'] = data.production_companies.apply(lambda x: x.split('|'))\n",
    "\n",
    "# Задаем новую колонку: прибыль\n",
    "data['profit'] = data.revenue - data.budget\n",
    "\n",
    "# Приводим дату к стандартному формату\n",
    "def date_split(x):\n",
    "    my_date = x.split('/')\n",
    "    y = dt.date(int(my_date[2]), int(my_date[0]), int (my_date[1]))\n",
    "    return y \n",
    "\n",
    "data['release_date_new'] = data.release_date.apply(date_split)\n",
    "data['month'] = data.release_date_new.apply(lambda x: x.month)\n",
    "\n",
    "# Вводим колонку сезон\n",
    "def def_season(month):\n",
    "    if month in [1,2,12]: return 'winter'\n",
    "    if month in [3,4,5]: return 'spring'\n",
    "    if month in [6,7,8]: return 'summer'\n",
    "    return 'outumn'\n",
    "\n",
    "data['seasons'] = data.month.apply(def_season)\n",
    "\n",
    "\n",
    "# Функция для создания датафрейма из списков значений, в привязке к ID фильмов.\n",
    "# Например, все фильмы по режисерам, актерам, жанрам и т.д.\n",
    "def make_df (source_df, key_column):\n",
    "    \n",
    "    # Создаем пустой словарь:\n",
    "    # ключами словаря будут поля, которые необходимо связать с фильмами (жанры, актеры и т.д.)\n",
    "    # значениями словаря будут списки ID соответсвующих фильмов\n",
    "    movie_dict = {}\n",
    "\n",
    "    # Перебираем каждую строку исходного датасета, внутри каждой строки перебираем каждый элемент списка.\n",
    "    # Если элемент новый - заводим в словарь, если уже встречался - увеличиваем количество элементов в списке значений\n",
    "    for i in source_df[key_column].index:\n",
    "        for item in source_df[key_column][i]:\n",
    "            if item in movie_dict.keys():\n",
    "                movie_dict[item].append(source_df.imdb_id[i])\n",
    "            else:\n",
    "                movie_dict[item] = [source_df.imdb_id[i]]\n",
    "\n",
    "    result_df = pd.DataFrame(movie_dict.items(), index = movie_dict.keys(), columns = [key_column,'movie_id'])\n",
    "    result_df.drop([key_column], axis='columns', inplace=True)\n",
    "    result_df['quantity'] = result_df.movie_id.apply(len)\n",
    "\n",
    "    return result_df\n",
    "data[data['release_year'] == 2014]"
   ]
  },
  {
   "cell_type": "markdown",
   "metadata": {
    "colab_type": "text",
    "id": "YxZaH-nPVp-L"
   },
   "source": [
    "# 1. У какого фильма из списка самый большой бюджет?"
   ]
  },
  {
   "cell_type": "markdown",
   "metadata": {
    "colab_type": "text",
    "id": "Nd-G5gX6Vp-M"
   },
   "source": [
    "Использовать варианты ответов в коде решения запрещено.    \n",
    "Вы думаете и в жизни у вас будут варианты ответов?)"
   ]
  },
  {
   "cell_type": "code",
   "execution_count": 144,
   "metadata": {
    "colab": {},
    "colab_type": "code",
    "id": "uVnXAY5RVp-O"
   },
   "outputs": [],
   "source": [
    "# в словарь вставляем номер вопроса и ваш ответ на него\n",
    "# Пример: \n",
    "answers['1'] = '2. Spider-Man 3 (tt0413300)'\n",
    "# запишите свой вариант ответа\n",
    "answers['1'] = 'Pirates of the Caribbean: On Stranger Tides (tt1298650)' #+\n",
    "# если ответили верно, можете добавить комментарий со значком \"+\""
   ]
  },
  {
   "cell_type": "code",
   "execution_count": 145,
   "metadata": {
    "colab": {},
    "colab_type": "code",
    "id": "dZwb3m28Vp-S"
   },
   "outputs": [
    {
     "data": {
      "text/html": [
       "<div>\n",
       "<style scoped>\n",
       "    .dataframe tbody tr th:only-of-type {\n",
       "        vertical-align: middle;\n",
       "    }\n",
       "\n",
       "    .dataframe tbody tr th {\n",
       "        vertical-align: top;\n",
       "    }\n",
       "\n",
       "    .dataframe thead th {\n",
       "        text-align: right;\n",
       "    }\n",
       "</style>\n",
       "<table border=\"1\" class=\"dataframe\">\n",
       "  <thead>\n",
       "    <tr style=\"text-align: right;\">\n",
       "      <th></th>\n",
       "      <th>imdb_id</th>\n",
       "      <th>budget</th>\n",
       "      <th>revenue</th>\n",
       "      <th>original_title</th>\n",
       "      <th>cast</th>\n",
       "      <th>director</th>\n",
       "      <th>tagline</th>\n",
       "      <th>overview</th>\n",
       "      <th>runtime</th>\n",
       "      <th>genres</th>\n",
       "      <th>...</th>\n",
       "      <th>release_date</th>\n",
       "      <th>vote_average</th>\n",
       "      <th>release_year</th>\n",
       "      <th>cast_new</th>\n",
       "      <th>director_new</th>\n",
       "      <th>genres_new</th>\n",
       "      <th>profit</th>\n",
       "      <th>release_date_new</th>\n",
       "      <th>month</th>\n",
       "      <th>seasons</th>\n",
       "    </tr>\n",
       "  </thead>\n",
       "  <tbody>\n",
       "    <tr>\n",
       "      <th>723</th>\n",
       "      <td>tt1298650</td>\n",
       "      <td>380000000</td>\n",
       "      <td>1021683000</td>\n",
       "      <td>Pirates of the Caribbean: On Stranger Tides</td>\n",
       "      <td>Johnny Depp|PenÃ©lope Cruz|Geoffrey Rush|Ian M...</td>\n",
       "      <td>Rob Marshall</td>\n",
       "      <td>Live Forever Or Die Trying.</td>\n",
       "      <td>Captain Jack Sparrow crosses paths with a woma...</td>\n",
       "      <td>136</td>\n",
       "      <td>Adventure|Action|Fantasy</td>\n",
       "      <td>...</td>\n",
       "      <td>5/11/2011</td>\n",
       "      <td>6.3</td>\n",
       "      <td>2011</td>\n",
       "      <td>[Johnny Depp, PenÃ©lope Cruz, Geoffrey Rush, I...</td>\n",
       "      <td>[Rob Marshall]</td>\n",
       "      <td>[Adventure, Action, Fantasy]</td>\n",
       "      <td>641683000</td>\n",
       "      <td>2011-05-11</td>\n",
       "      <td>5</td>\n",
       "      <td>spring</td>\n",
       "    </tr>\n",
       "  </tbody>\n",
       "</table>\n",
       "<p>1 rows × 21 columns</p>\n",
       "</div>"
      ],
      "text/plain": [
       "       imdb_id     budget     revenue  \\\n",
       "723  tt1298650  380000000  1021683000   \n",
       "\n",
       "                                  original_title  \\\n",
       "723  Pirates of the Caribbean: On Stranger Tides   \n",
       "\n",
       "                                                  cast      director  \\\n",
       "723  Johnny Depp|PenÃ©lope Cruz|Geoffrey Rush|Ian M...  Rob Marshall   \n",
       "\n",
       "                         tagline  \\\n",
       "723  Live Forever Or Die Trying.   \n",
       "\n",
       "                                              overview  runtime  \\\n",
       "723  Captain Jack Sparrow crosses paths with a woma...      136   \n",
       "\n",
       "                       genres  ... release_date vote_average  release_year  \\\n",
       "723  Adventure|Action|Fantasy  ...    5/11/2011          6.3          2011   \n",
       "\n",
       "                                              cast_new    director_new  \\\n",
       "723  [Johnny Depp, PenÃ©lope Cruz, Geoffrey Rush, I...  [Rob Marshall]   \n",
       "\n",
       "                       genres_new     profit  release_date_new month  seasons  \n",
       "723  [Adventure, Action, Fantasy]  641683000        2011-05-11     5   spring  \n",
       "\n",
       "[1 rows x 21 columns]"
      ]
     },
     "execution_count": 145,
     "metadata": {},
     "output_type": "execute_result"
    }
   ],
   "source": [
    "data[data.budget == max(data.budget)]"
   ]
  },
  {
   "cell_type": "markdown",
   "metadata": {
    "colab_type": "text",
    "id": "FNRbbI3vVp-c"
   },
   "source": [
    "# 2. Какой из фильмов самый длительный (в минутах)?"
   ]
  },
  {
   "cell_type": "code",
   "execution_count": 147,
   "metadata": {
    "colab": {},
    "colab_type": "code",
    "id": "vHAoEXNTVp-d"
   },
   "outputs": [],
   "source": [
    "answers['2'] = 'Gods and Generals (tt0279111)' #+"
   ]
  },
  {
   "cell_type": "code",
   "execution_count": 35,
   "metadata": {
    "colab": {},
    "colab_type": "code",
    "id": "ot-VX2XrVp-g"
   },
   "outputs": [
    {
     "data": {
      "text/html": [
       "<div>\n",
       "<style scoped>\n",
       "    .dataframe tbody tr th:only-of-type {\n",
       "        vertical-align: middle;\n",
       "    }\n",
       "\n",
       "    .dataframe tbody tr th {\n",
       "        vertical-align: top;\n",
       "    }\n",
       "\n",
       "    .dataframe thead th {\n",
       "        text-align: right;\n",
       "    }\n",
       "</style>\n",
       "<table border=\"1\" class=\"dataframe\">\n",
       "  <thead>\n",
       "    <tr style=\"text-align: right;\">\n",
       "      <th></th>\n",
       "      <th>imdb_id</th>\n",
       "      <th>budget</th>\n",
       "      <th>revenue</th>\n",
       "      <th>original_title</th>\n",
       "      <th>cast</th>\n",
       "      <th>director</th>\n",
       "      <th>tagline</th>\n",
       "      <th>overview</th>\n",
       "      <th>runtime</th>\n",
       "      <th>genres</th>\n",
       "      <th>production_companies</th>\n",
       "      <th>release_date</th>\n",
       "      <th>vote_average</th>\n",
       "      <th>release_year</th>\n",
       "      <th>director_new</th>\n",
       "      <th>profit</th>\n",
       "      <th>release_date_new</th>\n",
       "      <th>month</th>\n",
       "      <th>seasons</th>\n",
       "    </tr>\n",
       "  </thead>\n",
       "  <tbody>\n",
       "    <tr>\n",
       "      <th>1157</th>\n",
       "      <td>tt0279111</td>\n",
       "      <td>56000000</td>\n",
       "      <td>12923936</td>\n",
       "      <td>Gods and Generals</td>\n",
       "      <td>[Stephen Lang, Jeff Daniels, Robert Duvall, Ke...</td>\n",
       "      <td>Ronald F. Maxwell</td>\n",
       "      <td>The nations heart was touched by...</td>\n",
       "      <td>The film centers mostly around the personal an...</td>\n",
       "      <td>214</td>\n",
       "      <td>[Drama, History, War]</td>\n",
       "      <td>[Turner Pictures, Antietam Filmworks]</td>\n",
       "      <td>2/21/2003</td>\n",
       "      <td>5.8</td>\n",
       "      <td>2003</td>\n",
       "      <td>[Ronald F. Maxwell]</td>\n",
       "      <td>-43076064</td>\n",
       "      <td>2003-02-21</td>\n",
       "      <td>2</td>\n",
       "      <td>winter</td>\n",
       "    </tr>\n",
       "  </tbody>\n",
       "</table>\n",
       "</div>"
      ],
      "text/plain": [
       "        imdb_id    budget   revenue     original_title  \\\n",
       "1157  tt0279111  56000000  12923936  Gods and Generals   \n",
       "\n",
       "                                                   cast           director  \\\n",
       "1157  [Stephen Lang, Jeff Daniels, Robert Duvall, Ke...  Ronald F. Maxwell   \n",
       "\n",
       "                                  tagline  \\\n",
       "1157  The nations heart was touched by...   \n",
       "\n",
       "                                               overview  runtime  \\\n",
       "1157  The film centers mostly around the personal an...      214   \n",
       "\n",
       "                     genres                   production_companies  \\\n",
       "1157  [Drama, History, War]  [Turner Pictures, Antietam Filmworks]   \n",
       "\n",
       "     release_date  vote_average  release_year         director_new    profit  \\\n",
       "1157    2/21/2003           5.8          2003  [Ronald F. Maxwell] -43076064   \n",
       "\n",
       "     release_date_new  month seasons  \n",
       "1157       2003-02-21      2  winter  "
      ]
     },
     "execution_count": 35,
     "metadata": {},
     "output_type": "execute_result"
    }
   ],
   "source": [
    "data[data.runtime == max(data.runtime)]"
   ]
  },
  {
   "cell_type": "markdown",
   "metadata": {
    "colab_type": "text",
    "id": "bapLlpW8Vp-k"
   },
   "source": [
    "# 3. Какой из фильмов самый короткий (в минутах)?\n",
    "\n",
    "\n",
    "\n"
   ]
  },
  {
   "cell_type": "code",
   "execution_count": 148,
   "metadata": {
    "colab": {},
    "colab_type": "code",
    "id": "YBxaSHuAVp-l"
   },
   "outputs": [],
   "source": [
    "answers['3']  = 'Winnie the Pooh (tt1449283)' #+"
   ]
  },
  {
   "cell_type": "code",
   "execution_count": 36,
   "metadata": {},
   "outputs": [
    {
     "data": {
      "text/html": [
       "<div>\n",
       "<style scoped>\n",
       "    .dataframe tbody tr th:only-of-type {\n",
       "        vertical-align: middle;\n",
       "    }\n",
       "\n",
       "    .dataframe tbody tr th {\n",
       "        vertical-align: top;\n",
       "    }\n",
       "\n",
       "    .dataframe thead th {\n",
       "        text-align: right;\n",
       "    }\n",
       "</style>\n",
       "<table border=\"1\" class=\"dataframe\">\n",
       "  <thead>\n",
       "    <tr style=\"text-align: right;\">\n",
       "      <th></th>\n",
       "      <th>imdb_id</th>\n",
       "      <th>budget</th>\n",
       "      <th>revenue</th>\n",
       "      <th>original_title</th>\n",
       "      <th>cast</th>\n",
       "      <th>director</th>\n",
       "      <th>tagline</th>\n",
       "      <th>overview</th>\n",
       "      <th>runtime</th>\n",
       "      <th>genres</th>\n",
       "      <th>production_companies</th>\n",
       "      <th>release_date</th>\n",
       "      <th>vote_average</th>\n",
       "      <th>release_year</th>\n",
       "      <th>director_new</th>\n",
       "      <th>profit</th>\n",
       "      <th>release_date_new</th>\n",
       "      <th>month</th>\n",
       "      <th>seasons</th>\n",
       "    </tr>\n",
       "  </thead>\n",
       "  <tbody>\n",
       "    <tr>\n",
       "      <th>768</th>\n",
       "      <td>tt1449283</td>\n",
       "      <td>30000000</td>\n",
       "      <td>14460000</td>\n",
       "      <td>Winnie the Pooh</td>\n",
       "      <td>[Jim Cummings, Travis Oates, Jim Cummings, Bud...</td>\n",
       "      <td>Stephen Anderson|Don Hall</td>\n",
       "      <td>Oh Pooh.</td>\n",
       "      <td>During an ordinary day in Hundred Acre Wood, W...</td>\n",
       "      <td>63</td>\n",
       "      <td>[Animation, Family]</td>\n",
       "      <td>[Walt Disney Pictures, Walt Disney Animation S...</td>\n",
       "      <td>4/13/2011</td>\n",
       "      <td>6.8</td>\n",
       "      <td>2011</td>\n",
       "      <td>[Stephen Anderson, Don Hall]</td>\n",
       "      <td>-15540000</td>\n",
       "      <td>2011-04-13</td>\n",
       "      <td>4</td>\n",
       "      <td>spring</td>\n",
       "    </tr>\n",
       "  </tbody>\n",
       "</table>\n",
       "</div>"
      ],
      "text/plain": [
       "       imdb_id    budget   revenue   original_title  \\\n",
       "768  tt1449283  30000000  14460000  Winnie the Pooh   \n",
       "\n",
       "                                                  cast  \\\n",
       "768  [Jim Cummings, Travis Oates, Jim Cummings, Bud...   \n",
       "\n",
       "                      director   tagline  \\\n",
       "768  Stephen Anderson|Don Hall  Oh Pooh.   \n",
       "\n",
       "                                              overview  runtime  \\\n",
       "768  During an ordinary day in Hundred Acre Wood, W...       63   \n",
       "\n",
       "                  genres                               production_companies  \\\n",
       "768  [Animation, Family]  [Walt Disney Pictures, Walt Disney Animation S...   \n",
       "\n",
       "    release_date  vote_average  release_year                  director_new  \\\n",
       "768    4/13/2011           6.8          2011  [Stephen Anderson, Don Hall]   \n",
       "\n",
       "       profit release_date_new  month seasons  \n",
       "768 -15540000       2011-04-13      4  spring  "
      ]
     },
     "execution_count": 36,
     "metadata": {},
     "output_type": "execute_result"
    }
   ],
   "source": [
    "data[data.runtime == min(data.runtime)]"
   ]
  },
  {
   "cell_type": "markdown",
   "metadata": {
    "colab_type": "text",
    "id": "TfQbxbfNVp-p"
   },
   "source": [
    "# 4. Какова средняя длительность фильмов?\n"
   ]
  },
  {
   "cell_type": "code",
   "execution_count": 149,
   "metadata": {
    "colab": {},
    "colab_type": "code",
    "id": "5K6dKZYVVp-q"
   },
   "outputs": [],
   "source": [
    "answers['4']  = 110 #+"
   ]
  },
  {
   "cell_type": "code",
   "execution_count": 37,
   "metadata": {},
   "outputs": [
    {
     "data": {
      "text/plain": [
       "109.6585494970884"
      ]
     },
     "execution_count": 37,
     "metadata": {},
     "output_type": "execute_result"
    }
   ],
   "source": [
    "data.runtime.mean()"
   ]
  },
  {
   "cell_type": "markdown",
   "metadata": {
    "colab_type": "text",
    "id": "r5TvbnT_Vp-u"
   },
   "source": [
    "# 5. Каково медианное значение длительности фильмов? "
   ]
  },
  {
   "cell_type": "code",
   "execution_count": 150,
   "metadata": {
    "colab": {},
    "colab_type": "code",
    "id": "iBROplKnVp-v"
   },
   "outputs": [],
   "source": [
    "answers['5']  = 107 #+"
   ]
  },
  {
   "cell_type": "code",
   "execution_count": 38,
   "metadata": {},
   "outputs": [
    {
     "data": {
      "text/plain": [
       "107.0"
      ]
     },
     "execution_count": 38,
     "metadata": {},
     "output_type": "execute_result"
    }
   ],
   "source": [
    "data.runtime.median()"
   ]
  },
  {
   "cell_type": "markdown",
   "metadata": {
    "colab_type": "text",
    "id": "39P-deDSVp-y"
   },
   "source": [
    "# 6. Какой самый прибыльный фильм?\n",
    "#### Внимание! Здесь и далее под «прибылью» или «убытками» понимается разность между сборами и бюджетом фильма. (прибыль = сборы - бюджет) в нашем датасете это будет (profit = revenue - budget) "
   ]
  },
  {
   "cell_type": "code",
   "execution_count": 174,
   "metadata": {
    "colab": {},
    "colab_type": "code",
    "id": "UYZh4T9WVp-y"
   },
   "outputs": [],
   "source": [
    "answers['6']  = 'Avatar (tt0499549)' #+"
   ]
  },
  {
   "cell_type": "code",
   "execution_count": 175,
   "metadata": {},
   "outputs": [
    {
     "data": {
      "text/html": [
       "<div>\n",
       "<style scoped>\n",
       "    .dataframe tbody tr th:only-of-type {\n",
       "        vertical-align: middle;\n",
       "    }\n",
       "\n",
       "    .dataframe tbody tr th {\n",
       "        vertical-align: top;\n",
       "    }\n",
       "\n",
       "    .dataframe thead th {\n",
       "        text-align: right;\n",
       "    }\n",
       "</style>\n",
       "<table border=\"1\" class=\"dataframe\">\n",
       "  <thead>\n",
       "    <tr style=\"text-align: right;\">\n",
       "      <th></th>\n",
       "      <th>imdb_id</th>\n",
       "      <th>budget</th>\n",
       "      <th>revenue</th>\n",
       "      <th>original_title</th>\n",
       "      <th>cast</th>\n",
       "      <th>director</th>\n",
       "      <th>tagline</th>\n",
       "      <th>overview</th>\n",
       "      <th>runtime</th>\n",
       "      <th>genres</th>\n",
       "      <th>...</th>\n",
       "      <th>release_date</th>\n",
       "      <th>vote_average</th>\n",
       "      <th>release_year</th>\n",
       "      <th>cast_new</th>\n",
       "      <th>director_new</th>\n",
       "      <th>genres_new</th>\n",
       "      <th>profit</th>\n",
       "      <th>release_date_new</th>\n",
       "      <th>month</th>\n",
       "      <th>seasons</th>\n",
       "    </tr>\n",
       "  </thead>\n",
       "  <tbody>\n",
       "    <tr>\n",
       "      <th>239</th>\n",
       "      <td>tt0499549</td>\n",
       "      <td>237000000</td>\n",
       "      <td>2781505847</td>\n",
       "      <td>Avatar</td>\n",
       "      <td>Sam Worthington|Zoe Saldana|Sigourney Weaver|S...</td>\n",
       "      <td>James Cameron</td>\n",
       "      <td>Enter the World of Pandora.</td>\n",
       "      <td>In the 22nd century, a paraplegic Marine is di...</td>\n",
       "      <td>162</td>\n",
       "      <td>Action|Adventure|Fantasy|Science Fiction</td>\n",
       "      <td>...</td>\n",
       "      <td>12/10/2009</td>\n",
       "      <td>7.1</td>\n",
       "      <td>2009</td>\n",
       "      <td>[Sam Worthington, Zoe Saldana, Sigourney Weave...</td>\n",
       "      <td>[James Cameron]</td>\n",
       "      <td>[Action, Adventure, Fantasy, Science Fiction]</td>\n",
       "      <td>2544505847</td>\n",
       "      <td>2009-12-10</td>\n",
       "      <td>12</td>\n",
       "      <td>winter</td>\n",
       "    </tr>\n",
       "  </tbody>\n",
       "</table>\n",
       "<p>1 rows × 21 columns</p>\n",
       "</div>"
      ],
      "text/plain": [
       "       imdb_id     budget     revenue original_title  \\\n",
       "239  tt0499549  237000000  2781505847         Avatar   \n",
       "\n",
       "                                                  cast       director  \\\n",
       "239  Sam Worthington|Zoe Saldana|Sigourney Weaver|S...  James Cameron   \n",
       "\n",
       "                         tagline  \\\n",
       "239  Enter the World of Pandora.   \n",
       "\n",
       "                                              overview  runtime  \\\n",
       "239  In the 22nd century, a paraplegic Marine is di...      162   \n",
       "\n",
       "                                       genres  ... release_date vote_average  \\\n",
       "239  Action|Adventure|Fantasy|Science Fiction  ...   12/10/2009          7.1   \n",
       "\n",
       "     release_year                                           cast_new  \\\n",
       "239          2009  [Sam Worthington, Zoe Saldana, Sigourney Weave...   \n",
       "\n",
       "        director_new                                     genres_new  \\\n",
       "239  [James Cameron]  [Action, Adventure, Fantasy, Science Fiction]   \n",
       "\n",
       "         profit  release_date_new month  seasons  \n",
       "239  2544505847        2009-12-10    12   winter  \n",
       "\n",
       "[1 rows x 21 columns]"
      ]
     },
     "execution_count": 175,
     "metadata": {},
     "output_type": "execute_result"
    }
   ],
   "source": [
    "data[data.profit == max(data.profit)]"
   ]
  },
  {
   "cell_type": "markdown",
   "metadata": {
    "colab_type": "text",
    "id": "M99JmIX4Vp-2"
   },
   "source": [
    "# 7. Какой фильм самый убыточный? "
   ]
  },
  {
   "cell_type": "code",
   "execution_count": 151,
   "metadata": {
    "colab": {},
    "colab_type": "code",
    "id": "w-D2m4XPVp-3"
   },
   "outputs": [],
   "source": [
    "answers['7']  = 'The Lone Ranger (tt1210819)' #+"
   ]
  },
  {
   "cell_type": "code",
   "execution_count": 44,
   "metadata": {},
   "outputs": [
    {
     "data": {
      "text/html": [
       "<div>\n",
       "<style scoped>\n",
       "    .dataframe tbody tr th:only-of-type {\n",
       "        vertical-align: middle;\n",
       "    }\n",
       "\n",
       "    .dataframe tbody tr th {\n",
       "        vertical-align: top;\n",
       "    }\n",
       "\n",
       "    .dataframe thead th {\n",
       "        text-align: right;\n",
       "    }\n",
       "</style>\n",
       "<table border=\"1\" class=\"dataframe\">\n",
       "  <thead>\n",
       "    <tr style=\"text-align: right;\">\n",
       "      <th></th>\n",
       "      <th>imdb_id</th>\n",
       "      <th>budget</th>\n",
       "      <th>revenue</th>\n",
       "      <th>original_title</th>\n",
       "      <th>cast</th>\n",
       "      <th>director</th>\n",
       "      <th>tagline</th>\n",
       "      <th>overview</th>\n",
       "      <th>runtime</th>\n",
       "      <th>genres</th>\n",
       "      <th>production_companies</th>\n",
       "      <th>release_date</th>\n",
       "      <th>vote_average</th>\n",
       "      <th>release_year</th>\n",
       "      <th>director_new</th>\n",
       "      <th>profit</th>\n",
       "      <th>release_date_new</th>\n",
       "      <th>month</th>\n",
       "      <th>seasons</th>\n",
       "    </tr>\n",
       "  </thead>\n",
       "  <tbody>\n",
       "    <tr>\n",
       "      <th>1245</th>\n",
       "      <td>tt1210819</td>\n",
       "      <td>255000000</td>\n",
       "      <td>89289910</td>\n",
       "      <td>The Lone Ranger</td>\n",
       "      <td>[Johnny Depp, Armie Hammer, William Fichtner, ...</td>\n",
       "      <td>Gore Verbinski</td>\n",
       "      <td>Never Take Off the Mask</td>\n",
       "      <td>The Texas Rangers chase down a gang of outlaws...</td>\n",
       "      <td>149</td>\n",
       "      <td>[Action, Adventure, Western]</td>\n",
       "      <td>[Walt Disney Pictures, Jerry Bruckheimer Films...</td>\n",
       "      <td>7/3/2013</td>\n",
       "      <td>6.0</td>\n",
       "      <td>2013</td>\n",
       "      <td>[Gore Verbinski]</td>\n",
       "      <td>-165710090</td>\n",
       "      <td>2013-07-03</td>\n",
       "      <td>7</td>\n",
       "      <td>summer</td>\n",
       "    </tr>\n",
       "  </tbody>\n",
       "</table>\n",
       "</div>"
      ],
      "text/plain": [
       "        imdb_id     budget   revenue   original_title  \\\n",
       "1245  tt1210819  255000000  89289910  The Lone Ranger   \n",
       "\n",
       "                                                   cast        director  \\\n",
       "1245  [Johnny Depp, Armie Hammer, William Fichtner, ...  Gore Verbinski   \n",
       "\n",
       "                      tagline  \\\n",
       "1245  Never Take Off the Mask   \n",
       "\n",
       "                                               overview  runtime  \\\n",
       "1245  The Texas Rangers chase down a gang of outlaws...      149   \n",
       "\n",
       "                            genres  \\\n",
       "1245  [Action, Adventure, Western]   \n",
       "\n",
       "                                   production_companies release_date  \\\n",
       "1245  [Walt Disney Pictures, Jerry Bruckheimer Films...     7/3/2013   \n",
       "\n",
       "      vote_average  release_year      director_new     profit  \\\n",
       "1245           6.0          2013  [Gore Verbinski] -165710090   \n",
       "\n",
       "     release_date_new  month seasons  \n",
       "1245       2013-07-03      7  summer  "
      ]
     },
     "execution_count": 44,
     "metadata": {},
     "output_type": "execute_result"
    }
   ],
   "source": [
    "data[data.profit == min(data.profit)]"
   ]
  },
  {
   "cell_type": "markdown",
   "metadata": {
    "colab_type": "text",
    "id": "wEOM5ERVVp-6"
   },
   "source": [
    "# 8. У скольких фильмов из датасета объем сборов оказался выше бюджета?"
   ]
  },
  {
   "cell_type": "code",
   "execution_count": 152,
   "metadata": {
    "colab": {},
    "colab_type": "code",
    "id": "y00_7HD6Vp-7"
   },
   "outputs": [],
   "source": [
    "answers['8']  = 1478 #+"
   ]
  },
  {
   "cell_type": "code",
   "execution_count": 47,
   "metadata": {},
   "outputs": [
    {
     "data": {
      "text/plain": [
       "1478"
      ]
     },
     "execution_count": 47,
     "metadata": {},
     "output_type": "execute_result"
    }
   ],
   "source": [
    "len(data[data.profit > 0]['profit'])"
   ]
  },
  {
   "cell_type": "markdown",
   "metadata": {
    "colab_type": "text",
    "id": "xhpspA9KVp_A"
   },
   "source": [
    "# 9. Какой фильм оказался самым кассовым в 2008 году?"
   ]
  },
  {
   "cell_type": "code",
   "execution_count": 153,
   "metadata": {
    "colab": {},
    "colab_type": "code",
    "id": "MoUyQr9RVp_B"
   },
   "outputs": [],
   "source": [
    "answers['9']  = 'The Dark Knight (tt0468569)' #+'"
   ]
  },
  {
   "cell_type": "code",
   "execution_count": 49,
   "metadata": {},
   "outputs": [
    {
     "data": {
      "text/html": [
       "<div>\n",
       "<style scoped>\n",
       "    .dataframe tbody tr th:only-of-type {\n",
       "        vertical-align: middle;\n",
       "    }\n",
       "\n",
       "    .dataframe tbody tr th {\n",
       "        vertical-align: top;\n",
       "    }\n",
       "\n",
       "    .dataframe thead th {\n",
       "        text-align: right;\n",
       "    }\n",
       "</style>\n",
       "<table border=\"1\" class=\"dataframe\">\n",
       "  <thead>\n",
       "    <tr style=\"text-align: right;\">\n",
       "      <th></th>\n",
       "      <th>imdb_id</th>\n",
       "      <th>budget</th>\n",
       "      <th>revenue</th>\n",
       "      <th>original_title</th>\n",
       "      <th>cast</th>\n",
       "      <th>director</th>\n",
       "      <th>tagline</th>\n",
       "      <th>overview</th>\n",
       "      <th>runtime</th>\n",
       "      <th>genres</th>\n",
       "      <th>production_companies</th>\n",
       "      <th>release_date</th>\n",
       "      <th>vote_average</th>\n",
       "      <th>release_year</th>\n",
       "      <th>director_new</th>\n",
       "      <th>profit</th>\n",
       "      <th>release_date_new</th>\n",
       "      <th>month</th>\n",
       "      <th>seasons</th>\n",
       "    </tr>\n",
       "  </thead>\n",
       "  <tbody>\n",
       "    <tr>\n",
       "      <th>599</th>\n",
       "      <td>tt0468569</td>\n",
       "      <td>185000000</td>\n",
       "      <td>1001921825</td>\n",
       "      <td>The Dark Knight</td>\n",
       "      <td>[Christian Bale, Michael Caine, Heath Ledger, ...</td>\n",
       "      <td>Christopher Nolan</td>\n",
       "      <td>Why So Serious?</td>\n",
       "      <td>Batman raises the stakes in his war on crime. ...</td>\n",
       "      <td>152</td>\n",
       "      <td>[Drama, Action, Crime, Thriller]</td>\n",
       "      <td>[DC Comics, Legendary Pictures, Warner Bros., ...</td>\n",
       "      <td>7/16/2008</td>\n",
       "      <td>8.1</td>\n",
       "      <td>2008</td>\n",
       "      <td>[Christopher Nolan]</td>\n",
       "      <td>816921825</td>\n",
       "      <td>2008-07-16</td>\n",
       "      <td>7</td>\n",
       "      <td>summer</td>\n",
       "    </tr>\n",
       "  </tbody>\n",
       "</table>\n",
       "</div>"
      ],
      "text/plain": [
       "       imdb_id     budget     revenue   original_title  \\\n",
       "599  tt0468569  185000000  1001921825  The Dark Knight   \n",
       "\n",
       "                                                  cast           director  \\\n",
       "599  [Christian Bale, Michael Caine, Heath Ledger, ...  Christopher Nolan   \n",
       "\n",
       "             tagline                                           overview  \\\n",
       "599  Why So Serious?  Batman raises the stakes in his war on crime. ...   \n",
       "\n",
       "     runtime                            genres  \\\n",
       "599      152  [Drama, Action, Crime, Thriller]   \n",
       "\n",
       "                                  production_companies release_date  \\\n",
       "599  [DC Comics, Legendary Pictures, Warner Bros., ...    7/16/2008   \n",
       "\n",
       "     vote_average  release_year         director_new     profit  \\\n",
       "599           8.1          2008  [Christopher Nolan]  816921825   \n",
       "\n",
       "    release_date_new  month seasons  \n",
       "599       2008-07-16      7  summer  "
      ]
     },
     "execution_count": 49,
     "metadata": {},
     "output_type": "execute_result"
    }
   ],
   "source": [
    "data_2008 = data[data.release_year == 2008]\n",
    "data_2008[data_2008.profit == max(data_2008.profit)]"
   ]
  },
  {
   "cell_type": "markdown",
   "metadata": {
    "colab_type": "text",
    "id": "Zi4hDKidVp_F"
   },
   "source": [
    "# 10. Самый убыточный фильм за период с 2012 по 2014 г. (включительно)?\n"
   ]
  },
  {
   "cell_type": "code",
   "execution_count": 154,
   "metadata": {
    "colab": {},
    "colab_type": "code",
    "id": "XqyRmufJVp_F"
   },
   "outputs": [],
   "source": [
    "answers['10']  = 'The Lone Ranger (tt1210819)' #+"
   ]
  },
  {
   "cell_type": "code",
   "execution_count": 51,
   "metadata": {},
   "outputs": [
    {
     "data": {
      "text/html": [
       "<div>\n",
       "<style scoped>\n",
       "    .dataframe tbody tr th:only-of-type {\n",
       "        vertical-align: middle;\n",
       "    }\n",
       "\n",
       "    .dataframe tbody tr th {\n",
       "        vertical-align: top;\n",
       "    }\n",
       "\n",
       "    .dataframe thead th {\n",
       "        text-align: right;\n",
       "    }\n",
       "</style>\n",
       "<table border=\"1\" class=\"dataframe\">\n",
       "  <thead>\n",
       "    <tr style=\"text-align: right;\">\n",
       "      <th></th>\n",
       "      <th>imdb_id</th>\n",
       "      <th>budget</th>\n",
       "      <th>revenue</th>\n",
       "      <th>original_title</th>\n",
       "      <th>cast</th>\n",
       "      <th>director</th>\n",
       "      <th>tagline</th>\n",
       "      <th>overview</th>\n",
       "      <th>runtime</th>\n",
       "      <th>genres</th>\n",
       "      <th>production_companies</th>\n",
       "      <th>release_date</th>\n",
       "      <th>vote_average</th>\n",
       "      <th>release_year</th>\n",
       "      <th>director_new</th>\n",
       "      <th>profit</th>\n",
       "      <th>release_date_new</th>\n",
       "      <th>month</th>\n",
       "      <th>seasons</th>\n",
       "    </tr>\n",
       "  </thead>\n",
       "  <tbody>\n",
       "    <tr>\n",
       "      <th>1245</th>\n",
       "      <td>tt1210819</td>\n",
       "      <td>255000000</td>\n",
       "      <td>89289910</td>\n",
       "      <td>The Lone Ranger</td>\n",
       "      <td>[Johnny Depp, Armie Hammer, William Fichtner, ...</td>\n",
       "      <td>Gore Verbinski</td>\n",
       "      <td>Never Take Off the Mask</td>\n",
       "      <td>The Texas Rangers chase down a gang of outlaws...</td>\n",
       "      <td>149</td>\n",
       "      <td>[Action, Adventure, Western]</td>\n",
       "      <td>[Walt Disney Pictures, Jerry Bruckheimer Films...</td>\n",
       "      <td>7/3/2013</td>\n",
       "      <td>6.0</td>\n",
       "      <td>2013</td>\n",
       "      <td>[Gore Verbinski]</td>\n",
       "      <td>-165710090</td>\n",
       "      <td>2013-07-03</td>\n",
       "      <td>7</td>\n",
       "      <td>summer</td>\n",
       "    </tr>\n",
       "  </tbody>\n",
       "</table>\n",
       "</div>"
      ],
      "text/plain": [
       "        imdb_id     budget   revenue   original_title  \\\n",
       "1245  tt1210819  255000000  89289910  The Lone Ranger   \n",
       "\n",
       "                                                   cast        director  \\\n",
       "1245  [Johnny Depp, Armie Hammer, William Fichtner, ...  Gore Verbinski   \n",
       "\n",
       "                      tagline  \\\n",
       "1245  Never Take Off the Mask   \n",
       "\n",
       "                                               overview  runtime  \\\n",
       "1245  The Texas Rangers chase down a gang of outlaws...      149   \n",
       "\n",
       "                            genres  \\\n",
       "1245  [Action, Adventure, Western]   \n",
       "\n",
       "                                   production_companies release_date  \\\n",
       "1245  [Walt Disney Pictures, Jerry Bruckheimer Films...     7/3/2013   \n",
       "\n",
       "      vote_average  release_year      director_new     profit  \\\n",
       "1245           6.0          2013  [Gore Verbinski] -165710090   \n",
       "\n",
       "     release_date_new  month seasons  \n",
       "1245       2013-07-03      7  summer  "
      ]
     },
     "execution_count": 51,
     "metadata": {},
     "output_type": "execute_result"
    }
   ],
   "source": [
    "data_2012_2014 = data[data.release_year.between(2012, 2014)]\n",
    "data_2012_2014[data_2012_2014.profit == min(data_2012_2014.profit)]"
   ]
  },
  {
   "cell_type": "markdown",
   "metadata": {
    "colab_type": "text",
    "id": "EA7Sa9dkVp_I"
   },
   "source": [
    "# 11. Какого жанра фильмов больше всего?"
   ]
  },
  {
   "cell_type": "code",
   "execution_count": 155,
   "metadata": {
    "colab": {},
    "colab_type": "code",
    "id": "zsJAwJ8QVp_J"
   },
   "outputs": [],
   "source": [
    "answers['11']  = 'Drama' #+"
   ]
  },
  {
   "cell_type": "code",
   "execution_count": 97,
   "metadata": {
    "colab": {},
    "colab_type": "code",
    "id": "otO3SbrSVp_N"
   },
   "outputs": [
    {
     "data": {
      "text/html": [
       "<div>\n",
       "<style scoped>\n",
       "    .dataframe tbody tr th:only-of-type {\n",
       "        vertical-align: middle;\n",
       "    }\n",
       "\n",
       "    .dataframe tbody tr th {\n",
       "        vertical-align: top;\n",
       "    }\n",
       "\n",
       "    .dataframe thead th {\n",
       "        text-align: right;\n",
       "    }\n",
       "</style>\n",
       "<table border=\"1\" class=\"dataframe\">\n",
       "  <thead>\n",
       "    <tr style=\"text-align: right;\">\n",
       "      <th></th>\n",
       "      <th>movie_id</th>\n",
       "      <th>quantity</th>\n",
       "    </tr>\n",
       "  </thead>\n",
       "  <tbody>\n",
       "    <tr>\n",
       "      <th>Drama</th>\n",
       "      <td>[tt1663202, tt3659388, tt0470752, tt3460252, t...</td>\n",
       "      <td>782</td>\n",
       "    </tr>\n",
       "    <tr>\n",
       "      <th>Comedy</th>\n",
       "      <td>[tt2293640, tt2096673, tt2120120, tt1596363, t...</td>\n",
       "      <td>683</td>\n",
       "    </tr>\n",
       "    <tr>\n",
       "      <th>Thriller</th>\n",
       "      <td>[tt0369610, tt1392190, tt2908446, tt2820852, t...</td>\n",
       "      <td>596</td>\n",
       "    </tr>\n",
       "    <tr>\n",
       "      <th>Action</th>\n",
       "      <td>[tt0369610, tt1392190, tt2488496, tt2820852, t...</td>\n",
       "      <td>582</td>\n",
       "    </tr>\n",
       "    <tr>\n",
       "      <th>Adventure</th>\n",
       "      <td>[tt0369610, tt1392190, tt2908446, tt2488496, t...</td>\n",
       "      <td>415</td>\n",
       "    </tr>\n",
       "  </tbody>\n",
       "</table>\n",
       "</div>"
      ],
      "text/plain": [
       "                                                    movie_id  quantity\n",
       "Drama      [tt1663202, tt3659388, tt0470752, tt3460252, t...       782\n",
       "Comedy     [tt2293640, tt2096673, tt2120120, tt1596363, t...       683\n",
       "Thriller   [tt0369610, tt1392190, tt2908446, tt2820852, t...       596\n",
       "Action     [tt0369610, tt1392190, tt2488496, tt2820852, t...       582\n",
       "Adventure  [tt0369610, tt1392190, tt2908446, tt2488496, t...       415"
      ]
     },
     "execution_count": 97,
     "metadata": {},
     "output_type": "execute_result"
    }
   ],
   "source": [
    "make_df(data, 'genres_new').sort_values('quantity', ascending = False).head(top)"
   ]
  },
  {
   "cell_type": "markdown",
   "metadata": {
    "colab_type": "text",
    "id": "T9_bPWpkVp_Q"
   },
   "source": [
    "# 12. Фильмы какого жанра чаще всего становятся прибыльными? "
   ]
  },
  {
   "cell_type": "code",
   "execution_count": 156,
   "metadata": {
    "colab": {},
    "colab_type": "code",
    "id": "Tmt8MaK1Vp_R"
   },
   "outputs": [],
   "source": [
    "answers['12']  = 'Drama' #+"
   ]
  },
  {
   "cell_type": "code",
   "execution_count": 64,
   "metadata": {},
   "outputs": [
    {
     "data": {
      "text/html": [
       "<div>\n",
       "<style scoped>\n",
       "    .dataframe tbody tr th:only-of-type {\n",
       "        vertical-align: middle;\n",
       "    }\n",
       "\n",
       "    .dataframe tbody tr th {\n",
       "        vertical-align: top;\n",
       "    }\n",
       "\n",
       "    .dataframe thead th {\n",
       "        text-align: right;\n",
       "    }\n",
       "</style>\n",
       "<table border=\"1\" class=\"dataframe\">\n",
       "  <thead>\n",
       "    <tr style=\"text-align: right;\">\n",
       "      <th></th>\n",
       "      <th>genre</th>\n",
       "      <th>quantity</th>\n",
       "      <th>profit</th>\n",
       "      <th>sucses</th>\n",
       "    </tr>\n",
       "  </thead>\n",
       "  <tbody>\n",
       "    <tr>\n",
       "      <th>7</th>\n",
       "      <td>Drama</td>\n",
       "      <td>782</td>\n",
       "      <td>49257224159</td>\n",
       "      <td>560</td>\n",
       "    </tr>\n",
       "    <tr>\n",
       "      <th>10</th>\n",
       "      <td>Comedy</td>\n",
       "      <td>683</td>\n",
       "      <td>59774752721</td>\n",
       "      <td>551</td>\n",
       "    </tr>\n",
       "    <tr>\n",
       "      <th>3</th>\n",
       "      <td>Thriller</td>\n",
       "      <td>596</td>\n",
       "      <td>46740546578</td>\n",
       "      <td>446</td>\n",
       "    </tr>\n",
       "    <tr>\n",
       "      <th>0</th>\n",
       "      <td>Action</td>\n",
       "      <td>582</td>\n",
       "      <td>80187900065</td>\n",
       "      <td>444</td>\n",
       "    </tr>\n",
       "    <tr>\n",
       "      <th>1</th>\n",
       "      <td>Adventure</td>\n",
       "      <td>415</td>\n",
       "      <td>86070466981</td>\n",
       "      <td>337</td>\n",
       "    </tr>\n",
       "  </tbody>\n",
       "</table>\n",
       "</div>"
      ],
      "text/plain": [
       "        genre  quantity       profit  sucses\n",
       "7       Drama       782  49257224159     560\n",
       "10     Comedy       683  59774752721     551\n",
       "3    Thriller       596  46740546578     446\n",
       "0      Action       582  80187900065     444\n",
       "1   Adventure       415  86070466981     337"
      ]
     },
     "execution_count": 64,
     "metadata": {},
     "output_type": "execute_result"
    }
   ],
   "source": [
    "# Создаем пустой словарь для накопления количества жанров\n",
    "genres_dict = {}\n",
    "\n",
    "# Перебираем каждую строку датасета data.genres, внутри каждой строки перебираем каждый элемент списка.\n",
    "# Если жанр новый - заводим в словарь, если уже встречался - увеличиваем счетчик конкретного жанра\n",
    "# и накапливаем в значениях словаря (в спсике) бюджет, сборы, прибыль или убыток.\n",
    "for i in data.genres.index:\n",
    "    for genre in data['genres_new'][i]:\n",
    "        if genre in genres_dict.keys():\n",
    "            genres_dict[genre][0] += 1\n",
    "            genres_dict[genre][1] += data['profit'][i]\n",
    "            # Проверяем доходность и считаем количество прибыльных фильмов\n",
    "            if data['profit'][i] > 0:\n",
    "                genres_dict[genre][2] += 1\n",
    "        else:\n",
    "            if data['profit'][i] > 0:\n",
    "                genres_dict[genre] = [1, data['profit'][i],1]\n",
    "            else:\n",
    "                genres_dict[genre] = [1, data['profit'][i],0]\n",
    "\n",
    "genres_df = pd.DataFrame(genres_dict.items(), columns = ['genre','temp'])\n",
    "\n",
    "# Разделяем список со значениями на отдельные колонки\n",
    "genres_df['quantity'] = genres_df.temp.apply(lambda x: x.pop(0)) \n",
    "genres_df['profit'] = genres_df.temp.apply(lambda x: x.pop(0)) \n",
    "genres_df['sucses'] = genres_df.temp.apply(lambda x: x.pop(0)) \n",
    "genres_df.drop(['temp'], axis='columns', inplace=True)\n",
    "\n",
    "g_filter = ['Drama', 'Comedy', 'Action', 'Thriller', 'Adventure']\n",
    "genres_df[genres_df.genre.isin(g_filter)].sort_values('sucses',ascending = False)"
   ]
  },
  {
   "cell_type": "markdown",
   "metadata": {
    "colab_type": "text",
    "id": "0F23bgsDVp_U"
   },
   "source": [
    "# 13. У какого режиссера самые большие суммарные кассовые сбооры?"
   ]
  },
  {
   "cell_type": "code",
   "execution_count": 157,
   "metadata": {
    "colab": {},
    "colab_type": "code",
    "id": "K6Z3J8ygVp_X"
   },
   "outputs": [],
   "source": [
    "answers['13']  = 'Peter Jackson' #+"
   ]
  },
  {
   "cell_type": "code",
   "execution_count": 98,
   "metadata": {},
   "outputs": [
    {
     "data": {
      "text/html": [
       "<div>\n",
       "<style scoped>\n",
       "    .dataframe tbody tr th:only-of-type {\n",
       "        vertical-align: middle;\n",
       "    }\n",
       "\n",
       "    .dataframe tbody tr th {\n",
       "        vertical-align: top;\n",
       "    }\n",
       "\n",
       "    .dataframe thead th {\n",
       "        text-align: right;\n",
       "    }\n",
       "</style>\n",
       "<table border=\"1\" class=\"dataframe\">\n",
       "  <thead>\n",
       "    <tr style=\"text-align: right;\">\n",
       "      <th></th>\n",
       "      <th>budget</th>\n",
       "      <th>revenue</th>\n",
       "      <th>runtime</th>\n",
       "      <th>vote_average</th>\n",
       "      <th>release_year</th>\n",
       "      <th>profit</th>\n",
       "      <th>month</th>\n",
       "    </tr>\n",
       "    <tr>\n",
       "      <th>director</th>\n",
       "      <th></th>\n",
       "      <th></th>\n",
       "      <th></th>\n",
       "      <th></th>\n",
       "      <th></th>\n",
       "      <th></th>\n",
       "      <th></th>\n",
       "    </tr>\n",
       "  </thead>\n",
       "  <tbody>\n",
       "    <tr>\n",
       "      <th>Peter Jackson</th>\n",
       "      <td>1288000000</td>\n",
       "      <td>6490593685</td>\n",
       "      <td>1355</td>\n",
       "      <td>58.1</td>\n",
       "      <td>16059</td>\n",
       "      <td>5202593685</td>\n",
       "      <td>95</td>\n",
       "    </tr>\n",
       "    <tr>\n",
       "      <th>Christopher Nolan</th>\n",
       "      <td>1005000000</td>\n",
       "      <td>4167548502</td>\n",
       "      <td>1135</td>\n",
       "      <td>61.1</td>\n",
       "      <td>16057</td>\n",
       "      <td>3162548502</td>\n",
       "      <td>63</td>\n",
       "    </tr>\n",
       "    <tr>\n",
       "      <th>David Yates</th>\n",
       "      <td>775000000</td>\n",
       "      <td>4154295625</td>\n",
       "      <td>567</td>\n",
       "      <td>29.6</td>\n",
       "      <td>8037</td>\n",
       "      <td>3379295625</td>\n",
       "      <td>30</td>\n",
       "    </tr>\n",
       "    <tr>\n",
       "      <th>Michael Bay</th>\n",
       "      <td>1126000000</td>\n",
       "      <td>3886938960</td>\n",
       "      <td>1209</td>\n",
       "      <td>50.0</td>\n",
       "      <td>16063</td>\n",
       "      <td>2760938960</td>\n",
       "      <td>47</td>\n",
       "    </tr>\n",
       "    <tr>\n",
       "      <th>J.J. Abrams</th>\n",
       "      <td>740000000</td>\n",
       "      <td>3579169916</td>\n",
       "      <td>633</td>\n",
       "      <td>35.1</td>\n",
       "      <td>10054</td>\n",
       "      <td>2839169916</td>\n",
       "      <td>33</td>\n",
       "    </tr>\n",
       "  </tbody>\n",
       "</table>\n",
       "</div>"
      ],
      "text/plain": [
       "                       budget     revenue  runtime  vote_average  \\\n",
       "director                                                           \n",
       "Peter Jackson      1288000000  6490593685     1355          58.1   \n",
       "Christopher Nolan  1005000000  4167548502     1135          61.1   \n",
       "David Yates         775000000  4154295625      567          29.6   \n",
       "Michael Bay        1126000000  3886938960     1209          50.0   \n",
       "J.J. Abrams         740000000  3579169916      633          35.1   \n",
       "\n",
       "                   release_year      profit  month  \n",
       "director                                            \n",
       "Peter Jackson             16059  5202593685     95  \n",
       "Christopher Nolan         16057  3162548502     63  \n",
       "David Yates                8037  3379295625     30  \n",
       "Michael Bay               16063  2760938960     47  \n",
       "J.J. Abrams               10054  2839169916     33  "
      ]
     },
     "execution_count": 98,
     "metadata": {},
     "output_type": "execute_result"
    }
   ],
   "source": [
    "data.groupby(['director']).sum().sort_values('revenue', ascending = False).head(top)"
   ]
  },
  {
   "cell_type": "markdown",
   "metadata": {
    "colab_type": "text",
    "id": "PsYC9FgRVp_a"
   },
   "source": [
    "# 14. Какой режисер снял больше всего фильмов в стиле Action?"
   ]
  },
  {
   "cell_type": "code",
   "execution_count": 158,
   "metadata": {
    "colab": {},
    "colab_type": "code",
    "id": "wd2M-wHeVp_b"
   },
   "outputs": [],
   "source": [
    "answers['14']  = 'Robert Rodriguez' #+/-"
   ]
  },
  {
   "cell_type": "code",
   "execution_count": 67,
   "metadata": {},
   "outputs": [
    {
     "data": {
      "text/plain": [
       "director\n",
       "Robert Rodriguez     6\n",
       "Ridley Scott         6\n",
       "Tony Scott           5\n",
       "Guy Ritchie          4\n",
       "Quentin Tarantino    3\n",
       "Name: imdb_id, dtype: int64"
      ]
     },
     "execution_count": 67,
     "metadata": {},
     "output_type": "execute_result"
    }
   ],
   "source": [
    "directors = data[data.genres.str.contains('Action')].groupby('director').count().sort_values('imdb_id',ascending = False).imdb_id\n",
    "my_filter = ['Ridley Scott', 'Guy Ritchie', 'Robert Rodriguez', 'Quentin Tarantino', 'Tony Scott']\n",
    "directors.loc[my_filter].sort_values(ascending = False)"
   ]
  },
  {
   "cell_type": "markdown",
   "metadata": {
    "colab_type": "text",
    "id": "PQ0KciD7Vp_f"
   },
   "source": [
    "# 15. Фильмы с каким актером принесли самые высокие кассовые сборы в 2012 году? "
   ]
  },
  {
   "cell_type": "code",
   "execution_count": 171,
   "metadata": {
    "colab": {},
    "colab_type": "code",
    "id": "aga62oeKVp_g"
   },
   "outputs": [],
   "source": [
    "answers['15']  = 'Chris Hemsworth' #+"
   ]
  },
  {
   "cell_type": "code",
   "execution_count": 76,
   "metadata": {},
   "outputs": [
    {
     "data": {
      "text/html": [
       "<div>\n",
       "<style scoped>\n",
       "    .dataframe tbody tr th:only-of-type {\n",
       "        vertical-align: middle;\n",
       "    }\n",
       "\n",
       "    .dataframe tbody tr th {\n",
       "        vertical-align: top;\n",
       "    }\n",
       "\n",
       "    .dataframe thead th {\n",
       "        text-align: right;\n",
       "    }\n",
       "</style>\n",
       "<table border=\"1\" class=\"dataframe\">\n",
       "  <thead>\n",
       "    <tr style=\"text-align: right;\">\n",
       "      <th></th>\n",
       "      <th>movie_id</th>\n",
       "      <th>quantity</th>\n",
       "      <th>revenue</th>\n",
       "    </tr>\n",
       "  </thead>\n",
       "  <tbody>\n",
       "    <tr>\n",
       "      <th>Chris Hemsworth</th>\n",
       "      <td>[tt2395427, tt2717822, tt1390411, tt1524930, t...</td>\n",
       "      <td>12</td>\n",
       "      <td>2027450773</td>\n",
       "    </tr>\n",
       "    <tr>\n",
       "      <th>Tom Hardy</th>\n",
       "      <td>[tt1392190, tt1663202, tt3569230, tt1014763, t...</td>\n",
       "      <td>8</td>\n",
       "      <td>1134717867</td>\n",
       "    </tr>\n",
       "    <tr>\n",
       "      <th>Emma Stone</th>\n",
       "      <td>[tt1243974, tt2562232, tt1872181, tt1156398, t...</td>\n",
       "      <td>13</td>\n",
       "      <td>752215857</td>\n",
       "    </tr>\n",
       "    <tr>\n",
       "      <th>Jim Sturgess</th>\n",
       "      <td>[tt1023114, tt0478087, tt1563738, tt1371111, t...</td>\n",
       "      <td>6</td>\n",
       "      <td>138589343</td>\n",
       "    </tr>\n",
       "    <tr>\n",
       "      <th>Nicolas Cage</th>\n",
       "      <td>[tt2467046, tt0448011, tt1095217, tt0375568, t...</td>\n",
       "      <td>27</td>\n",
       "      <td>2106557</td>\n",
       "    </tr>\n",
       "  </tbody>\n",
       "</table>\n",
       "</div>"
      ],
      "text/plain": [
       "                                                          movie_id  quantity  \\\n",
       "Chris Hemsworth  [tt2395427, tt2717822, tt1390411, tt1524930, t...        12   \n",
       "Tom Hardy        [tt1392190, tt1663202, tt3569230, tt1014763, t...         8   \n",
       "Emma Stone       [tt1243974, tt2562232, tt1872181, tt1156398, t...        13   \n",
       "Jim Sturgess     [tt1023114, tt0478087, tt1563738, tt1371111, t...         6   \n",
       "Nicolas Cage     [tt2467046, tt0448011, tt1095217, tt0375568, t...        27   \n",
       "\n",
       "                    revenue  \n",
       "Chris Hemsworth  2027450773  \n",
       "Tom Hardy        1134717867  \n",
       "Emma Stone        752215857  \n",
       "Jim Sturgess      138589343  \n",
       "Nicolas Cage        2106557  "
      ]
     },
     "execution_count": 76,
     "metadata": {},
     "output_type": "execute_result"
    }
   ],
   "source": [
    "# формируем датасет из актеров в привязке к фильмам\n",
    "cast_df = make_df(data,'cast_new')\n",
    "\n",
    "# создаем пустой список для накопления сумм сборов\n",
    "a=[]\n",
    "data_2012 = data[data['release_year'] == 2012]\n",
    "\n",
    "for s in range(len(cast_df)):\n",
    "    a.append(data_2012[data_2012['imdb_id'].isin(cast_df['movie_id'][s])]['revenue'].sum())\n",
    "\n",
    "# добавляем сборы в датасет с актерами \n",
    "cast_df['revenue'] = a\n",
    "\n",
    "# накладываем фильтр по актерам из вопроса и выводим результат\n",
    "cast_filter = ['Nicolas Cage','Tom Hardy','Chris Hemsworth','Jim Sturgess','Emma Stone']\n",
    "cast_df[cast_df.index.isin(cast_filter)].sort_values('revenue', ascending = False)"
   ]
  },
  {
   "cell_type": "markdown",
   "metadata": {
    "colab_type": "text",
    "id": "mWHyyL7QVp_j"
   },
   "source": [
    "# 16. Какой актер снялся в большем количестве высокобюджетных фильмов?"
   ]
  },
  {
   "cell_type": "code",
   "execution_count": 172,
   "metadata": {
    "colab": {},
    "colab_type": "code",
    "id": "qQtmHKTFVp_k"
   },
   "outputs": [],
   "source": [
    "answers['16']  = 'Matt Damon' #+"
   ]
  },
  {
   "cell_type": "code",
   "execution_count": 99,
   "metadata": {},
   "outputs": [
    {
     "data": {
      "text/html": [
       "<div>\n",
       "<style scoped>\n",
       "    .dataframe tbody tr th:only-of-type {\n",
       "        vertical-align: middle;\n",
       "    }\n",
       "\n",
       "    .dataframe tbody tr th {\n",
       "        vertical-align: top;\n",
       "    }\n",
       "\n",
       "    .dataframe thead th {\n",
       "        text-align: right;\n",
       "    }\n",
       "</style>\n",
       "<table border=\"1\" class=\"dataframe\">\n",
       "  <thead>\n",
       "    <tr style=\"text-align: right;\">\n",
       "      <th></th>\n",
       "      <th>movie_id</th>\n",
       "      <th>quantity</th>\n",
       "    </tr>\n",
       "  </thead>\n",
       "  <tbody>\n",
       "    <tr>\n",
       "      <th>Matt Damon</th>\n",
       "      <td>[tt3659388, tt2177771, tt1057500, tt0947810, t...</td>\n",
       "      <td>18</td>\n",
       "    </tr>\n",
       "    <tr>\n",
       "      <th>Adam Sandler</th>\n",
       "      <td>[tt2120120, tt2510894, tt1201167, tt1375670, t...</td>\n",
       "      <td>17</td>\n",
       "    </tr>\n",
       "    <tr>\n",
       "      <th>Angelina Jolie</th>\n",
       "      <td>[tt1587310, tt0944835, tt1243957, tt0146316, t...</td>\n",
       "      <td>16</td>\n",
       "    </tr>\n",
       "    <tr>\n",
       "      <th>Samuel L. Jackson</th>\n",
       "      <td>[tt2802144, tt1843866, tt1386588, tt0489099, t...</td>\n",
       "      <td>15</td>\n",
       "    </tr>\n",
       "    <tr>\n",
       "      <th>Eddie Murphy</th>\n",
       "      <td>[tt0892791, tt0126029, tt0240462, tt0765476, t...</td>\n",
       "      <td>15</td>\n",
       "    </tr>\n",
       "  </tbody>\n",
       "</table>\n",
       "</div>"
      ],
      "text/plain": [
       "                                                            movie_id  quantity\n",
       "Matt Damon         [tt3659388, tt2177771, tt1057500, tt0947810, t...        18\n",
       "Adam Sandler       [tt2120120, tt2510894, tt1201167, tt1375670, t...        17\n",
       "Angelina Jolie     [tt1587310, tt0944835, tt1243957, tt0146316, t...        16\n",
       "Samuel L. Jackson  [tt2802144, tt1843866, tt1386588, tt0489099, t...        15\n",
       "Eddie Murphy       [tt0892791, tt0126029, tt0240462, tt0765476, t...        15"
      ]
     },
     "execution_count": 99,
     "metadata": {},
     "output_type": "execute_result"
    }
   ],
   "source": [
    "# формируем новый датасет из высокобюджетных фильмов (выше среднего бюджета)\n",
    "high_budget = data[data['budget'] >= data['budget'].mean()]\n",
    "\n",
    "# формируем дадасет по актерам и фильмам и выводим результат\n",
    "cast_df = make_df(high_budget, 'cast_new')\n",
    "cast_df.sort_values('quantity',ascending = False).head(top)"
   ]
  },
  {
   "cell_type": "markdown",
   "metadata": {
    "colab_type": "text",
    "id": "NIh6AaW5Vp_n"
   },
   "source": [
    "# 17. В фильмах какого жанра больше всего снимался Nicolas Cage? "
   ]
  },
  {
   "cell_type": "code",
   "execution_count": 170,
   "metadata": {
    "colab": {},
    "colab_type": "code",
    "id": "H74SJDIBVp_n"
   },
   "outputs": [],
   "source": [
    "answers['17']  = 'Action' #+"
   ]
  },
  {
   "cell_type": "code",
   "execution_count": 100,
   "metadata": {},
   "outputs": [
    {
     "data": {
      "text/html": [
       "<div>\n",
       "<style scoped>\n",
       "    .dataframe tbody tr th:only-of-type {\n",
       "        vertical-align: middle;\n",
       "    }\n",
       "\n",
       "    .dataframe tbody tr th {\n",
       "        vertical-align: top;\n",
       "    }\n",
       "\n",
       "    .dataframe thead th {\n",
       "        text-align: right;\n",
       "    }\n",
       "</style>\n",
       "<table border=\"1\" class=\"dataframe\">\n",
       "  <thead>\n",
       "    <tr style=\"text-align: right;\">\n",
       "      <th></th>\n",
       "      <th>movie_id</th>\n",
       "      <th>quantity</th>\n",
       "    </tr>\n",
       "  </thead>\n",
       "  <tbody>\n",
       "    <tr>\n",
       "      <th>Action</th>\n",
       "      <td>[tt2467046, tt0448011, tt0375568, tt1250777, t...</td>\n",
       "      <td>17</td>\n",
       "    </tr>\n",
       "    <tr>\n",
       "      <th>Thriller</th>\n",
       "      <td>[tt2467046, tt0814022, tt1502404, tt1071875, t...</td>\n",
       "      <td>15</td>\n",
       "    </tr>\n",
       "    <tr>\n",
       "      <th>Drama</th>\n",
       "      <td>[tt0448011, tt1095217, tt0963966, tt1674784, t...</td>\n",
       "      <td>12</td>\n",
       "    </tr>\n",
       "    <tr>\n",
       "      <th>Crime</th>\n",
       "      <td>[tt1095217, tt1250777, tt0814022, tt1502404, t...</td>\n",
       "      <td>10</td>\n",
       "    </tr>\n",
       "    <tr>\n",
       "      <th>Fantasy</th>\n",
       "      <td>[tt0963966, tt1502404, tt1071875, tt0479997, t...</td>\n",
       "      <td>8</td>\n",
       "    </tr>\n",
       "  </tbody>\n",
       "</table>\n",
       "</div>"
      ],
      "text/plain": [
       "                                                   movie_id  quantity\n",
       "Action    [tt2467046, tt0448011, tt0375568, tt1250777, t...        17\n",
       "Thriller  [tt2467046, tt0814022, tt1502404, tt1071875, t...        15\n",
       "Drama     [tt0448011, tt1095217, tt0963966, tt1674784, t...        12\n",
       "Crime     [tt1095217, tt1250777, tt0814022, tt1502404, t...        10\n",
       "Fantasy   [tt0963966, tt1502404, tt1071875, tt0479997, t...         8"
      ]
     },
     "execution_count": 100,
     "metadata": {},
     "output_type": "execute_result"
    }
   ],
   "source": [
    "# Создаем отдельный датасет для Кейджа и считаем количество жанров\n",
    "data_Cage = data[data['cast'].str.contains('Nicolas Cage')]\n",
    "genres_df = make_df(data_Cage, 'genres_new')\n",
    "genres_df.sort_values('quantity', ascending = False).head(top)"
   ]
  },
  {
   "cell_type": "markdown",
   "metadata": {
    "colab_type": "text",
    "id": "RqOmPRfWVp_q"
   },
   "source": [
    "# 18. Самый убыточный фильм от Paramount Pictures"
   ]
  },
  {
   "cell_type": "code",
   "execution_count": 165,
   "metadata": {
    "colab": {},
    "colab_type": "code",
    "id": "9E_B0Y96Vp_r"
   },
   "outputs": [],
   "source": [
    "answers['18']  = 'K-19: The Widowmaker (tt0267626)' #+"
   ]
  },
  {
   "cell_type": "code",
   "execution_count": 90,
   "metadata": {},
   "outputs": [
    {
     "data": {
      "text/html": [
       "<div>\n",
       "<style scoped>\n",
       "    .dataframe tbody tr th:only-of-type {\n",
       "        vertical-align: middle;\n",
       "    }\n",
       "\n",
       "    .dataframe tbody tr th {\n",
       "        vertical-align: top;\n",
       "    }\n",
       "\n",
       "    .dataframe thead th {\n",
       "        text-align: right;\n",
       "    }\n",
       "</style>\n",
       "<table border=\"1\" class=\"dataframe\">\n",
       "  <thead>\n",
       "    <tr style=\"text-align: right;\">\n",
       "      <th></th>\n",
       "      <th>imdb_id</th>\n",
       "      <th>budget</th>\n",
       "      <th>revenue</th>\n",
       "      <th>original_title</th>\n",
       "      <th>cast</th>\n",
       "      <th>director</th>\n",
       "      <th>tagline</th>\n",
       "      <th>overview</th>\n",
       "      <th>runtime</th>\n",
       "      <th>genres</th>\n",
       "      <th>...</th>\n",
       "      <th>release_date</th>\n",
       "      <th>vote_average</th>\n",
       "      <th>release_year</th>\n",
       "      <th>cast_new</th>\n",
       "      <th>director_new</th>\n",
       "      <th>genres_new</th>\n",
       "      <th>profit</th>\n",
       "      <th>release_date_new</th>\n",
       "      <th>month</th>\n",
       "      <th>seasons</th>\n",
       "    </tr>\n",
       "  </thead>\n",
       "  <tbody>\n",
       "    <tr>\n",
       "      <th>925</th>\n",
       "      <td>tt0267626</td>\n",
       "      <td>100000000</td>\n",
       "      <td>35168966</td>\n",
       "      <td>K-19: The Widowmaker</td>\n",
       "      <td>Harrison Ford|Liam Neeson|Peter Sarsgaard|Joss...</td>\n",
       "      <td>Kathryn Bigelow</td>\n",
       "      <td>Fate has found its hero.</td>\n",
       "      <td>When Russia's first nuclear submarine malfunct...</td>\n",
       "      <td>138</td>\n",
       "      <td>Thriller|Drama|History</td>\n",
       "      <td>...</td>\n",
       "      <td>7/19/2002</td>\n",
       "      <td>6.0</td>\n",
       "      <td>2002</td>\n",
       "      <td>[Harrison Ford, Liam Neeson, Peter Sarsgaard, ...</td>\n",
       "      <td>[Kathryn Bigelow]</td>\n",
       "      <td>[Thriller, Drama, History]</td>\n",
       "      <td>-64831034</td>\n",
       "      <td>2002-07-19</td>\n",
       "      <td>7</td>\n",
       "      <td>summer</td>\n",
       "    </tr>\n",
       "  </tbody>\n",
       "</table>\n",
       "<p>1 rows × 21 columns</p>\n",
       "</div>"
      ],
      "text/plain": [
       "       imdb_id     budget   revenue        original_title  \\\n",
       "925  tt0267626  100000000  35168966  K-19: The Widowmaker   \n",
       "\n",
       "                                                  cast         director  \\\n",
       "925  Harrison Ford|Liam Neeson|Peter Sarsgaard|Joss...  Kathryn Bigelow   \n",
       "\n",
       "                      tagline  \\\n",
       "925  Fate has found its hero.   \n",
       "\n",
       "                                              overview  runtime  \\\n",
       "925  When Russia's first nuclear submarine malfunct...      138   \n",
       "\n",
       "                     genres  ... release_date vote_average  release_year  \\\n",
       "925  Thriller|Drama|History  ...    7/19/2002          6.0          2002   \n",
       "\n",
       "                                              cast_new       director_new  \\\n",
       "925  [Harrison Ford, Liam Neeson, Peter Sarsgaard, ...  [Kathryn Bigelow]   \n",
       "\n",
       "                     genres_new    profit  release_date_new month  seasons  \n",
       "925  [Thriller, Drama, History] -64831034        2002-07-19     7   summer  \n",
       "\n",
       "[1 rows x 21 columns]"
      ]
     },
     "execution_count": 90,
     "metadata": {},
     "output_type": "execute_result"
    }
   ],
   "source": [
    "studios_df = make_df(data, 'production_companies')\n",
    "m_filter = studios_df.loc['Paramount Pictures'].movie_id\n",
    "data_st = data[(data['imdb_id'].isin(m_filter))]\n",
    "data_st[data_st['profit'] == data_st.profit.min()]"
   ]
  },
  {
   "cell_type": "markdown",
   "metadata": {
    "colab_type": "text",
    "id": "vS8Ur6ddVp_u"
   },
   "source": [
    "# 19. Какой год стал самым успешным по суммарным кассовым сборам?"
   ]
  },
  {
   "cell_type": "code",
   "execution_count": 166,
   "metadata": {
    "colab": {},
    "colab_type": "code",
    "id": "Dnbt4GdIVp_v"
   },
   "outputs": [],
   "source": [
    "answers['19']  = 2015 #+ "
   ]
  },
  {
   "cell_type": "code",
   "execution_count": 101,
   "metadata": {},
   "outputs": [
    {
     "data": {
      "text/html": [
       "<div>\n",
       "<style scoped>\n",
       "    .dataframe tbody tr th:only-of-type {\n",
       "        vertical-align: middle;\n",
       "    }\n",
       "\n",
       "    .dataframe tbody tr th {\n",
       "        vertical-align: top;\n",
       "    }\n",
       "\n",
       "    .dataframe thead th {\n",
       "        text-align: right;\n",
       "    }\n",
       "</style>\n",
       "<table border=\"1\" class=\"dataframe\">\n",
       "  <thead>\n",
       "    <tr style=\"text-align: right;\">\n",
       "      <th></th>\n",
       "      <th>budget</th>\n",
       "      <th>revenue</th>\n",
       "      <th>runtime</th>\n",
       "      <th>vote_average</th>\n",
       "      <th>profit</th>\n",
       "      <th>month</th>\n",
       "    </tr>\n",
       "    <tr>\n",
       "      <th>release_year</th>\n",
       "      <th></th>\n",
       "      <th></th>\n",
       "      <th></th>\n",
       "      <th></th>\n",
       "      <th></th>\n",
       "      <th></th>\n",
       "    </tr>\n",
       "  </thead>\n",
       "  <tbody>\n",
       "    <tr>\n",
       "      <th>2015</th>\n",
       "      <td>6780630004</td>\n",
       "      <td>25449202382</td>\n",
       "      <td>13355</td>\n",
       "      <td>755.2</td>\n",
       "      <td>18668572378</td>\n",
       "      <td>842</td>\n",
       "    </tr>\n",
       "    <tr>\n",
       "      <th>2014</th>\n",
       "      <td>7008050000</td>\n",
       "      <td>23405862953</td>\n",
       "      <td>13444</td>\n",
       "      <td>774.5</td>\n",
       "      <td>16397812953</td>\n",
       "      <td>854</td>\n",
       "    </tr>\n",
       "    <tr>\n",
       "      <th>2013</th>\n",
       "      <td>7970620000</td>\n",
       "      <td>23213799791</td>\n",
       "      <td>15039</td>\n",
       "      <td>846.9</td>\n",
       "      <td>15243179791</td>\n",
       "      <td>943</td>\n",
       "    </tr>\n",
       "    <tr>\n",
       "      <th>2012</th>\n",
       "      <td>7002000000</td>\n",
       "      <td>23079001687</td>\n",
       "      <td>12145</td>\n",
       "      <td>682.1</td>\n",
       "      <td>16077001687</td>\n",
       "      <td>724</td>\n",
       "    </tr>\n",
       "    <tr>\n",
       "      <th>2011</th>\n",
       "      <td>7946550531</td>\n",
       "      <td>22676791872</td>\n",
       "      <td>15355</td>\n",
       "      <td>868.5</td>\n",
       "      <td>14730241341</td>\n",
       "      <td>949</td>\n",
       "    </tr>\n",
       "  </tbody>\n",
       "</table>\n",
       "</div>"
      ],
      "text/plain": [
       "                  budget      revenue  runtime  vote_average       profit  \\\n",
       "release_year                                                                \n",
       "2015          6780630004  25449202382    13355         755.2  18668572378   \n",
       "2014          7008050000  23405862953    13444         774.5  16397812953   \n",
       "2013          7970620000  23213799791    15039         846.9  15243179791   \n",
       "2012          7002000000  23079001687    12145         682.1  16077001687   \n",
       "2011          7946550531  22676791872    15355         868.5  14730241341   \n",
       "\n",
       "              month  \n",
       "release_year         \n",
       "2015            842  \n",
       "2014            854  \n",
       "2013            943  \n",
       "2012            724  \n",
       "2011            949  "
      ]
     },
     "execution_count": 101,
     "metadata": {},
     "output_type": "execute_result"
    }
   ],
   "source": [
    "data.groupby('release_year').sum().sort_values('revenue',ascending = False).head(top)"
   ]
  },
  {
   "cell_type": "markdown",
   "metadata": {
    "colab_type": "text",
    "id": "JAzJh4QAVp_z"
   },
   "source": [
    "# 20. Какой самый прибыльный год для студии Warner Bros?"
   ]
  },
  {
   "cell_type": "code",
   "execution_count": 167,
   "metadata": {
    "colab": {},
    "colab_type": "code",
    "id": "wgVu02DEVp_0"
   },
   "outputs": [],
   "source": [
    "answers['20']  = 2014  #По моему, верный ответ - 2008 (см. решение). Не понимаю, почему валидатор считает верным 2014. "
   ]
  },
  {
   "cell_type": "code",
   "execution_count": 117,
   "metadata": {},
   "outputs": [
    {
     "data": {
      "text/html": [
       "<div>\n",
       "<style scoped>\n",
       "    .dataframe tbody tr th:only-of-type {\n",
       "        vertical-align: middle;\n",
       "    }\n",
       "\n",
       "    .dataframe tbody tr th {\n",
       "        vertical-align: top;\n",
       "    }\n",
       "\n",
       "    .dataframe thead th {\n",
       "        text-align: right;\n",
       "    }\n",
       "</style>\n",
       "<table border=\"1\" class=\"dataframe\">\n",
       "  <thead>\n",
       "    <tr style=\"text-align: right;\">\n",
       "      <th></th>\n",
       "      <th>budget</th>\n",
       "      <th>revenue</th>\n",
       "      <th>runtime</th>\n",
       "      <th>vote_average</th>\n",
       "      <th>profit</th>\n",
       "      <th>month</th>\n",
       "    </tr>\n",
       "    <tr>\n",
       "      <th>release_year</th>\n",
       "      <th></th>\n",
       "      <th></th>\n",
       "      <th></th>\n",
       "      <th></th>\n",
       "      <th></th>\n",
       "      <th></th>\n",
       "    </tr>\n",
       "  </thead>\n",
       "  <tbody>\n",
       "    <tr>\n",
       "      <th>2008</th>\n",
       "      <td>916000000</td>\n",
       "      <td>3050595031</td>\n",
       "      <td>1366</td>\n",
       "      <td>72.0</td>\n",
       "      <td>2134595031</td>\n",
       "      <td>81</td>\n",
       "    </tr>\n",
       "    <tr>\n",
       "      <th>2014</th>\n",
       "      <td>887600000</td>\n",
       "      <td>2773903827</td>\n",
       "      <td>1476</td>\n",
       "      <td>81.4</td>\n",
       "      <td>1886303827</td>\n",
       "      <td>87</td>\n",
       "    </tr>\n",
       "    <tr>\n",
       "      <th>2010</th>\n",
       "      <td>954000000</td>\n",
       "      <td>2807128844</td>\n",
       "      <td>1341</td>\n",
       "      <td>74.5</td>\n",
       "      <td>1853128844</td>\n",
       "      <td>80</td>\n",
       "    </tr>\n",
       "    <tr>\n",
       "      <th>2012</th>\n",
       "      <td>611500000</td>\n",
       "      <td>1869520056</td>\n",
       "      <td>579</td>\n",
       "      <td>30.0</td>\n",
       "      <td>1258020056</td>\n",
       "      <td>33</td>\n",
       "    </tr>\n",
       "    <tr>\n",
       "      <th>2015</th>\n",
       "      <td>820800003</td>\n",
       "      <td>1691168351</td>\n",
       "      <td>1358</td>\n",
       "      <td>75.9</td>\n",
       "      <td>870368348</td>\n",
       "      <td>82</td>\n",
       "    </tr>\n",
       "  </tbody>\n",
       "</table>\n",
       "</div>"
      ],
      "text/plain": [
       "                 budget     revenue  runtime  vote_average      profit  month\n",
       "release_year                                                                 \n",
       "2008          916000000  3050595031     1366          72.0  2134595031     81\n",
       "2014          887600000  2773903827     1476          81.4  1886303827     87\n",
       "2010          954000000  2807128844     1341          74.5  1853128844     80\n",
       "2012          611500000  1869520056      579          30.0  1258020056     33\n",
       "2015          820800003  1691168351     1358          75.9   870368348     82"
      ]
     },
     "execution_count": 117,
     "metadata": {},
     "output_type": "execute_result"
    }
   ],
   "source": [
    "y_filter = [2014, 2008, 2012, 2010, 2015]\n",
    "new_data = data[data['release_year'].isin(y_filter)]\n",
    "\n",
    "studios_df = make_df(new_data, 'production_companies')\n",
    "m_filter = studios_df.loc['Warner Bros.'].movie_id\n",
    "data_st = new_data[(new_data.imdb_id.isin(m_filter))]\n",
    "\n",
    "data_st.groupby('release_year').sum().sort_values('profit',ascending = False)"
   ]
  },
  {
   "cell_type": "markdown",
   "metadata": {
    "colab_type": "text",
    "id": "8Im1S2HRVp_4"
   },
   "source": [
    "# 21. В каком месяце за все годы суммарно вышло больше всего фильмов?"
   ]
  },
  {
   "cell_type": "code",
   "execution_count": 168,
   "metadata": {
    "colab": {},
    "colab_type": "code",
    "id": "lev6TH7gVp_4"
   },
   "outputs": [],
   "source": [
    "answers['21']  = 'Сентябрь' #+"
   ]
  },
  {
   "cell_type": "code",
   "execution_count": 120,
   "metadata": {},
   "outputs": [
    {
     "data": {
      "text/plain": [
       "month\n",
       "9     227\n",
       "12    190\n",
       "10    186\n",
       "8     161\n",
       "3     156\n",
       "Name: imdb_id, dtype: int64"
      ]
     },
     "execution_count": 120,
     "metadata": {},
     "output_type": "execute_result"
    }
   ],
   "source": [
    "data.groupby('month').imdb_id.count().sort_values(ascending = False).head(top)"
   ]
  },
  {
   "cell_type": "markdown",
   "metadata": {
    "colab_type": "text",
    "id": "uAJsZ_NeVp_7"
   },
   "source": [
    "# 22. Сколько суммарно вышло фильмов летом? (за июнь, июль, август)"
   ]
  },
  {
   "cell_type": "code",
   "execution_count": 121,
   "metadata": {
    "colab": {},
    "colab_type": "code",
    "id": "Aa-hEREoVp_8"
   },
   "outputs": [],
   "source": [
    "answers['22']  = 450 #+"
   ]
  },
  {
   "cell_type": "code",
   "execution_count": 122,
   "metadata": {},
   "outputs": [
    {
     "data": {
      "text/plain": [
       "450"
      ]
     },
     "execution_count": 122,
     "metadata": {},
     "output_type": "execute_result"
    }
   ],
   "source": [
    "seasons = data.groupby('month').imdb_id.count()\n",
    "seasons[5:8].sum()"
   ]
  },
  {
   "cell_type": "markdown",
   "metadata": {
    "colab_type": "text",
    "id": "G94ppOY1VqAA"
   },
   "source": [
    "# 23. Для какого режиссера зима – самое продуктивное время года? "
   ]
  },
  {
   "cell_type": "code",
   "execution_count": 123,
   "metadata": {
    "colab": {},
    "colab_type": "code",
    "id": "RhNTsamuVqAB"
   },
   "outputs": [],
   "source": [
    "answers['23']  = 'Peter Jackson' #-"
   ]
  },
  {
   "cell_type": "code",
   "execution_count": 144,
   "metadata": {},
   "outputs": [
    {
     "data": {
      "text/html": [
       "<div>\n",
       "<style scoped>\n",
       "    .dataframe tbody tr th:only-of-type {\n",
       "        vertical-align: middle;\n",
       "    }\n",
       "\n",
       "    .dataframe tbody tr th {\n",
       "        vertical-align: top;\n",
       "    }\n",
       "\n",
       "    .dataframe thead th {\n",
       "        text-align: right;\n",
       "    }\n",
       "</style>\n",
       "<table border=\"1\" class=\"dataframe\">\n",
       "  <thead>\n",
       "    <tr style=\"text-align: right;\">\n",
       "      <th></th>\n",
       "      <th>movie_id</th>\n",
       "      <th>quantity</th>\n",
       "      <th>seasons</th>\n",
       "    </tr>\n",
       "  </thead>\n",
       "  <tbody>\n",
       "    <tr>\n",
       "      <th>Peter Jackson</th>\n",
       "      <td>[tt2310332, tt0380510, tt0120737, tt0167261, t...</td>\n",
       "      <td>8</td>\n",
       "      <td>0.875000</td>\n",
       "    </tr>\n",
       "    <tr>\n",
       "      <th>Clint Eastwood</th>\n",
       "      <td>[tt2179136, tt1057500, tt1212419, tt1205489, t...</td>\n",
       "      <td>12</td>\n",
       "      <td>0.500000</td>\n",
       "    </tr>\n",
       "    <tr>\n",
       "      <th>Steven Soderbergh</th>\n",
       "      <td>[tt1130080, tt0240772, tt1598778, tt0307479, t...</td>\n",
       "      <td>13</td>\n",
       "      <td>0.461538</td>\n",
       "    </tr>\n",
       "    <tr>\n",
       "      <th>Ridley Scott</th>\n",
       "      <td>[tt3659388, tt1528100, tt0955308, tt0265086, t...</td>\n",
       "      <td>12</td>\n",
       "      <td>0.250000</td>\n",
       "    </tr>\n",
       "    <tr>\n",
       "      <th>Christopher Nolan</th>\n",
       "      <td>[tt0816692, tt1375666, tt0468569, tt0278504, t...</td>\n",
       "      <td>8</td>\n",
       "      <td>0.000000</td>\n",
       "    </tr>\n",
       "  </tbody>\n",
       "</table>\n",
       "</div>"
      ],
      "text/plain": [
       "                                                            movie_id  \\\n",
       "Peter Jackson      [tt2310332, tt0380510, tt0120737, tt0167261, t...   \n",
       "Clint Eastwood     [tt2179136, tt1057500, tt1212419, tt1205489, t...   \n",
       "Steven Soderbergh  [tt1130080, tt0240772, tt1598778, tt0307479, t...   \n",
       "Ridley Scott       [tt3659388, tt1528100, tt0955308, tt0265086, t...   \n",
       "Christopher Nolan  [tt0816692, tt1375666, tt0468569, tt0278504, t...   \n",
       "\n",
       "                   quantity   seasons  \n",
       "Peter Jackson             8  0.875000  \n",
       "Clint Eastwood           12  0.500000  \n",
       "Steven Soderbergh        13  0.461538  \n",
       "Ridley Scott             12  0.250000  \n",
       "Christopher Nolan         8  0.000000  "
      ]
     },
     "execution_count": 144,
     "metadata": {},
     "output_type": "execute_result"
    }
   ],
   "source": [
    "director_df = make_df(data, 'director_new')\n",
    "\n",
    "a = [] # вспомогательный список для накопления количества фильмов в разрезе режисеров и сезонов\n",
    "b = [] # список для расчета продуктивности зимы: отношение количества фильмов,\n",
    "       #выпущенных зимой конкретным режисером к общему количеству фильмов этого режисера\n",
    "\n",
    "for director in range(len(director_df)):\n",
    "    a.append(pd.Series(data[data['imdb_id'].isin(director_df['movie_id'][director])]['seasons']))\n",
    "    if 'winter' in list(a[director]):\n",
    "        b.append(a[director].value_counts(1).loc['winter'])\n",
    "    else:\n",
    "        b.append(0)\n",
    "\n",
    "director_df['seasons'] = b\n",
    "director_df.sort_values('seasons', ascending = False).head(10)\n",
    "m_filter = ['Steven Soderbergh', 'Christopher Nolan', 'Clint Eastwood', 'Ridley Scott', 'Peter Jackson']\n",
    "director_df[director_df.index.isin(m_filter)].sort_values('seasons', ascending = False)\n"
   ]
  },
  {
   "cell_type": "markdown",
   "metadata": {
    "colab_type": "text",
    "id": "RBo0JVjVVqAF"
   },
   "source": [
    "# 24. Какая студия дает самые длинные названия своим фильмам по количеству символов?"
   ]
  },
  {
   "cell_type": "code",
   "execution_count": 128,
   "metadata": {
    "colab": {},
    "colab_type": "code",
    "id": "QRGS8L0iVqAG"
   },
   "outputs": [],
   "source": [
    "answers['24']  = 'Four By Two Productions' #+"
   ]
  },
  {
   "cell_type": "code",
   "execution_count": 133,
   "metadata": {},
   "outputs": [
    {
     "data": {
      "text/html": [
       "<div>\n",
       "<style scoped>\n",
       "    .dataframe tbody tr th:only-of-type {\n",
       "        vertical-align: middle;\n",
       "    }\n",
       "\n",
       "    .dataframe tbody tr th {\n",
       "        vertical-align: top;\n",
       "    }\n",
       "\n",
       "    .dataframe thead th {\n",
       "        text-align: right;\n",
       "    }\n",
       "</style>\n",
       "<table border=\"1\" class=\"dataframe\">\n",
       "  <thead>\n",
       "    <tr style=\"text-align: right;\">\n",
       "      <th></th>\n",
       "      <th>movie_id</th>\n",
       "      <th>quantity</th>\n",
       "      <th>name_len</th>\n",
       "    </tr>\n",
       "  </thead>\n",
       "  <tbody>\n",
       "    <tr>\n",
       "      <th>Four By Two Productions</th>\n",
       "      <td>[tt0443453]</td>\n",
       "      <td>1</td>\n",
       "      <td>83.000000</td>\n",
       "    </tr>\n",
       "    <tr>\n",
       "      <th>Jim Henson Company, The</th>\n",
       "      <td>[tt1698641]</td>\n",
       "      <td>1</td>\n",
       "      <td>59.000000</td>\n",
       "    </tr>\n",
       "    <tr>\n",
       "      <th>Paramount Pictures</th>\n",
       "      <td>[tt1340138, tt1596363, tt2381249, tt1528854, t...</td>\n",
       "      <td>122</td>\n",
       "      <td>17.032787</td>\n",
       "    </tr>\n",
       "    <tr>\n",
       "      <th>Warner Bros.</th>\n",
       "      <td>[tt1617661, tt2126355, tt1638355, tt2361509, t...</td>\n",
       "      <td>168</td>\n",
       "      <td>15.571429</td>\n",
       "    </tr>\n",
       "  </tbody>\n",
       "</table>\n",
       "</div>"
      ],
      "text/plain": [
       "                                                                  movie_id  \\\n",
       "Four By Two Productions                                        [tt0443453]   \n",
       "Jim Henson Company, The                                        [tt1698641]   \n",
       "Paramount Pictures       [tt1340138, tt1596363, tt2381249, tt1528854, t...   \n",
       "Warner Bros.             [tt1617661, tt2126355, tt1638355, tt2361509, t...   \n",
       "\n",
       "                         quantity   name_len  \n",
       "Four By Two Productions         1  83.000000  \n",
       "Jim Henson Company, The         1  59.000000  \n",
       "Paramount Pictures            122  17.032787  \n",
       "Warner Bros.                  168  15.571429  "
      ]
     },
     "execution_count": 133,
     "metadata": {},
     "output_type": "execute_result"
    }
   ],
   "source": [
    "studios_df = make_df(data, 'production_companies')\n",
    "\n",
    "# \"a\" и \"b\" - вспомогательные списки, итоговые средние длины названий в списке \"с\"\n",
    "a = []\n",
    "b = []\n",
    "c = []\n",
    "for s in range(len(studios_df)):\n",
    "    a.append(pd.Series(data[data['imdb_id'].isin(studios_df['movie_id'][s])]['original_title']))\n",
    "    b.append(''.join(list(a[s])))\n",
    "    c.append(len(b[s])/len(a[s]))\n",
    "\n",
    "studios_df['name_len'] = c\n",
    "m_filter = ['Universal Pictures (Universal)', 'Warner Bros.', 'Jim Henson Company, The', 'Paramount Pictures' , 'Four By Two Productions']\n",
    "studios_df[studios_df.index.isin(m_filter)].sort_values('name_len', ascending = False)\n"
   ]
  },
  {
   "cell_type": "markdown",
   "metadata": {
    "colab_type": "text",
    "id": "9G0hbvR7VqAK"
   },
   "source": [
    "# 25. Описание фильмов какой студии в среднем самые длинные по количеству слов?"
   ]
  },
  {
   "cell_type": "code",
   "execution_count": 134,
   "metadata": {
    "colab": {},
    "colab_type": "code",
    "id": "Ge2GsLNxVqAK"
   },
   "outputs": [],
   "source": [
    "answers['25']  = 'Midnight Picture Show' #+"
   ]
  },
  {
   "cell_type": "code",
   "execution_count": 136,
   "metadata": {},
   "outputs": [
    {
     "data": {
      "text/html": [
       "<div>\n",
       "<style scoped>\n",
       "    .dataframe tbody tr th:only-of-type {\n",
       "        vertical-align: middle;\n",
       "    }\n",
       "\n",
       "    .dataframe tbody tr th {\n",
       "        vertical-align: top;\n",
       "    }\n",
       "\n",
       "    .dataframe thead th {\n",
       "        text-align: right;\n",
       "    }\n",
       "</style>\n",
       "<table border=\"1\" class=\"dataframe\">\n",
       "  <thead>\n",
       "    <tr style=\"text-align: right;\">\n",
       "      <th></th>\n",
       "      <th>movie_id</th>\n",
       "      <th>quantity</th>\n",
       "      <th>overview_len</th>\n",
       "    </tr>\n",
       "  </thead>\n",
       "  <tbody>\n",
       "    <tr>\n",
       "      <th>Midnight Picture Show</th>\n",
       "      <td>[tt0805570]</td>\n",
       "      <td>1</td>\n",
       "      <td>175.000000</td>\n",
       "    </tr>\n",
       "    <tr>\n",
       "      <th>Total Entertainment</th>\n",
       "      <td>[tt1324999]</td>\n",
       "      <td>1</td>\n",
       "      <td>86.000000</td>\n",
       "    </tr>\n",
       "    <tr>\n",
       "      <th>Paramount Pictures</th>\n",
       "      <td>[tt1340138, tt1596363, tt2381249, tt1528854, t...</td>\n",
       "      <td>122</td>\n",
       "      <td>55.278689</td>\n",
       "    </tr>\n",
       "    <tr>\n",
       "      <th>Warner Bros.</th>\n",
       "      <td>[tt1617661, tt2126355, tt1638355, tt2361509, t...</td>\n",
       "      <td>168</td>\n",
       "      <td>54.601190</td>\n",
       "    </tr>\n",
       "    <tr>\n",
       "      <th>Universal Pictures</th>\n",
       "      <td>[tt2820852, tt2293640, tt2637276, tt2848292, t...</td>\n",
       "      <td>173</td>\n",
       "      <td>53.682081</td>\n",
       "    </tr>\n",
       "  </tbody>\n",
       "</table>\n",
       "</div>"
      ],
      "text/plain": [
       "                                                                movie_id  \\\n",
       "Midnight Picture Show                                        [tt0805570]   \n",
       "Total Entertainment                                          [tt1324999]   \n",
       "Paramount Pictures     [tt1340138, tt1596363, tt2381249, tt1528854, t...   \n",
       "Warner Bros.           [tt1617661, tt2126355, tt1638355, tt2361509, t...   \n",
       "Universal Pictures     [tt2820852, tt2293640, tt2637276, tt2848292, t...   \n",
       "\n",
       "                       quantity  overview_len  \n",
       "Midnight Picture Show         1    175.000000  \n",
       "Total Entertainment           1     86.000000  \n",
       "Paramount Pictures          122     55.278689  \n",
       "Warner Bros.                168     54.601190  \n",
       "Universal Pictures          173     53.682081  "
      ]
     },
     "execution_count": 136,
     "metadata": {},
     "output_type": "execute_result"
    }
   ],
   "source": [
    "studios_df = make_df(data, 'production_companies')\n",
    "\n",
    "a = []\n",
    "b = []\n",
    "for s in range(len(studios_df)):\n",
    "    a.append(pd.Series(data[data['imdb_id'].isin(studios_df['movie_id'][s])]['overview']))\n",
    "    # сначала соединяем описание всех фильмов по конкретной студии в одну строку, потом считаем количество слов \n",
    "    b.append(len(' '.join(list(a[s])).split(' '))/len(a[s]))    \n",
    "\n",
    "studios_df['overview_len'] = b\n",
    "m_filter = ['Universal Pictures', 'Warner Bros.', 'Midnight Picture Show', 'Paramount Pictures', 'Total Entertainment']\n",
    "studios_df[studios_df.index.isin(m_filter)].sort_values('overview_len', ascending = False)\n"
   ]
  },
  {
   "cell_type": "markdown",
   "metadata": {
    "colab_type": "text",
    "id": "FJ1AFt90VqAP"
   },
   "source": [
    "# 26. Какие фильмы входят в 1 процент лучших по рейтингу? \n",
    "по vote_average"
   ]
  },
  {
   "cell_type": "code",
   "execution_count": 137,
   "metadata": {
    "colab": {},
    "colab_type": "code",
    "id": "8qmJVq4CVqAQ"
   },
   "outputs": [],
   "source": [
    "answers['26']  = 'Inside Out, The Dark Knight, 12 Years a Slave' #+"
   ]
  },
  {
   "cell_type": "code",
   "execution_count": 138,
   "metadata": {},
   "outputs": [
    {
     "data": {
      "text/html": [
       "<div>\n",
       "<style scoped>\n",
       "    .dataframe tbody tr th:only-of-type {\n",
       "        vertical-align: middle;\n",
       "    }\n",
       "\n",
       "    .dataframe tbody tr th {\n",
       "        vertical-align: top;\n",
       "    }\n",
       "\n",
       "    .dataframe thead th {\n",
       "        text-align: right;\n",
       "    }\n",
       "</style>\n",
       "<table border=\"1\" class=\"dataframe\">\n",
       "  <thead>\n",
       "    <tr style=\"text-align: right;\">\n",
       "      <th></th>\n",
       "      <th>imdb_id</th>\n",
       "      <th>budget</th>\n",
       "      <th>revenue</th>\n",
       "      <th>original_title</th>\n",
       "      <th>cast</th>\n",
       "      <th>director</th>\n",
       "      <th>tagline</th>\n",
       "      <th>overview</th>\n",
       "      <th>runtime</th>\n",
       "      <th>genres</th>\n",
       "      <th>...</th>\n",
       "      <th>release_date</th>\n",
       "      <th>vote_average</th>\n",
       "      <th>release_year</th>\n",
       "      <th>cast_new</th>\n",
       "      <th>director_new</th>\n",
       "      <th>genres_new</th>\n",
       "      <th>profit</th>\n",
       "      <th>release_date_new</th>\n",
       "      <th>month</th>\n",
       "      <th>seasons</th>\n",
       "    </tr>\n",
       "  </thead>\n",
       "  <tbody>\n",
       "    <tr>\n",
       "      <th>9</th>\n",
       "      <td>tt2096673</td>\n",
       "      <td>175000000</td>\n",
       "      <td>853708609</td>\n",
       "      <td>Inside Out</td>\n",
       "      <td>Amy Poehler|Phyllis Smith|Richard Kind|Bill Ha...</td>\n",
       "      <td>Pete Docter</td>\n",
       "      <td>Meet the little voices inside your head.</td>\n",
       "      <td>Growing up can be a bumpy road, and it's no ex...</td>\n",
       "      <td>94</td>\n",
       "      <td>Comedy|Animation|Family</td>\n",
       "      <td>...</td>\n",
       "      <td>6/9/2015</td>\n",
       "      <td>8.0</td>\n",
       "      <td>2015</td>\n",
       "      <td>[Amy Poehler, Phyllis Smith, Richard Kind, Bil...</td>\n",
       "      <td>[Pete Docter]</td>\n",
       "      <td>[Comedy, Animation, Family]</td>\n",
       "      <td>678708609</td>\n",
       "      <td>2015-06-09</td>\n",
       "      <td>6</td>\n",
       "      <td>summer</td>\n",
       "    </tr>\n",
       "    <tr>\n",
       "      <th>599</th>\n",
       "      <td>tt0468569</td>\n",
       "      <td>185000000</td>\n",
       "      <td>1001921825</td>\n",
       "      <td>The Dark Knight</td>\n",
       "      <td>Christian Bale|Michael Caine|Heath Ledger|Aaro...</td>\n",
       "      <td>Christopher Nolan</td>\n",
       "      <td>Why So Serious?</td>\n",
       "      <td>Batman raises the stakes in his war on crime. ...</td>\n",
       "      <td>152</td>\n",
       "      <td>Drama|Action|Crime|Thriller</td>\n",
       "      <td>...</td>\n",
       "      <td>7/16/2008</td>\n",
       "      <td>8.1</td>\n",
       "      <td>2008</td>\n",
       "      <td>[Christian Bale, Michael Caine, Heath Ledger, ...</td>\n",
       "      <td>[Christopher Nolan]</td>\n",
       "      <td>[Drama, Action, Crime, Thriller]</td>\n",
       "      <td>816921825</td>\n",
       "      <td>2008-07-16</td>\n",
       "      <td>7</td>\n",
       "      <td>summer</td>\n",
       "    </tr>\n",
       "    <tr>\n",
       "      <th>1081</th>\n",
       "      <td>tt0167260</td>\n",
       "      <td>94000000</td>\n",
       "      <td>1118888979</td>\n",
       "      <td>The Lord of the Rings: The Return of the King</td>\n",
       "      <td>Elijah Wood|Ian McKellen|Viggo Mortensen|Liv T...</td>\n",
       "      <td>Peter Jackson</td>\n",
       "      <td>The eye of the enemy is moving.</td>\n",
       "      <td>Aragorn is revealed as the heir to the ancient...</td>\n",
       "      <td>201</td>\n",
       "      <td>Adventure|Fantasy|Action</td>\n",
       "      <td>...</td>\n",
       "      <td>12/1/2003</td>\n",
       "      <td>7.9</td>\n",
       "      <td>2003</td>\n",
       "      <td>[Elijah Wood, Ian McKellen, Viggo Mortensen, L...</td>\n",
       "      <td>[Peter Jackson]</td>\n",
       "      <td>[Adventure, Fantasy, Action]</td>\n",
       "      <td>1024888979</td>\n",
       "      <td>2003-12-01</td>\n",
       "      <td>12</td>\n",
       "      <td>winter</td>\n",
       "    </tr>\n",
       "    <tr>\n",
       "      <th>1191</th>\n",
       "      <td>tt2024544</td>\n",
       "      <td>20000000</td>\n",
       "      <td>187000000</td>\n",
       "      <td>12 Years a Slave</td>\n",
       "      <td>Chiwetel Ejiofor|Michael Fassbender|Lupita Nyo...</td>\n",
       "      <td>Steve McQueen</td>\n",
       "      <td>The extraordinary true story of Solomon Northup</td>\n",
       "      <td>In the pre-Civil War United States, Solomon No...</td>\n",
       "      <td>134</td>\n",
       "      <td>Drama|History</td>\n",
       "      <td>...</td>\n",
       "      <td>10/18/2013</td>\n",
       "      <td>7.9</td>\n",
       "      <td>2013</td>\n",
       "      <td>[Chiwetel Ejiofor, Michael Fassbender, Lupita ...</td>\n",
       "      <td>[Steve McQueen]</td>\n",
       "      <td>[Drama, History]</td>\n",
       "      <td>167000000</td>\n",
       "      <td>2013-10-18</td>\n",
       "      <td>10</td>\n",
       "      <td>outumn</td>\n",
       "    </tr>\n",
       "  </tbody>\n",
       "</table>\n",
       "<p>4 rows × 21 columns</p>\n",
       "</div>"
      ],
      "text/plain": [
       "        imdb_id     budget     revenue  \\\n",
       "9     tt2096673  175000000   853708609   \n",
       "599   tt0468569  185000000  1001921825   \n",
       "1081  tt0167260   94000000  1118888979   \n",
       "1191  tt2024544   20000000   187000000   \n",
       "\n",
       "                                     original_title  \\\n",
       "9                                        Inside Out   \n",
       "599                                 The Dark Knight   \n",
       "1081  The Lord of the Rings: The Return of the King   \n",
       "1191                               12 Years a Slave   \n",
       "\n",
       "                                                   cast           director  \\\n",
       "9     Amy Poehler|Phyllis Smith|Richard Kind|Bill Ha...        Pete Docter   \n",
       "599   Christian Bale|Michael Caine|Heath Ledger|Aaro...  Christopher Nolan   \n",
       "1081  Elijah Wood|Ian McKellen|Viggo Mortensen|Liv T...      Peter Jackson   \n",
       "1191  Chiwetel Ejiofor|Michael Fassbender|Lupita Nyo...      Steve McQueen   \n",
       "\n",
       "                                              tagline  \\\n",
       "9            Meet the little voices inside your head.   \n",
       "599                                   Why So Serious?   \n",
       "1081                  The eye of the enemy is moving.   \n",
       "1191  The extraordinary true story of Solomon Northup   \n",
       "\n",
       "                                               overview  runtime  \\\n",
       "9     Growing up can be a bumpy road, and it's no ex...       94   \n",
       "599   Batman raises the stakes in his war on crime. ...      152   \n",
       "1081  Aragorn is revealed as the heir to the ancient...      201   \n",
       "1191  In the pre-Civil War United States, Solomon No...      134   \n",
       "\n",
       "                           genres  ... release_date vote_average  \\\n",
       "9         Comedy|Animation|Family  ...     6/9/2015          8.0   \n",
       "599   Drama|Action|Crime|Thriller  ...    7/16/2008          8.1   \n",
       "1081     Adventure|Fantasy|Action  ...    12/1/2003          7.9   \n",
       "1191                Drama|History  ...   10/18/2013          7.9   \n",
       "\n",
       "      release_year                                           cast_new  \\\n",
       "9             2015  [Amy Poehler, Phyllis Smith, Richard Kind, Bil...   \n",
       "599           2008  [Christian Bale, Michael Caine, Heath Ledger, ...   \n",
       "1081          2003  [Elijah Wood, Ian McKellen, Viggo Mortensen, L...   \n",
       "1191          2013  [Chiwetel Ejiofor, Michael Fassbender, Lupita ...   \n",
       "\n",
       "             director_new                        genres_new      profit  \\\n",
       "9           [Pete Docter]       [Comedy, Animation, Family]   678708609   \n",
       "599   [Christopher Nolan]  [Drama, Action, Crime, Thriller]   816921825   \n",
       "1081      [Peter Jackson]      [Adventure, Fantasy, Action]  1024888979   \n",
       "1191      [Steve McQueen]                  [Drama, History]   167000000   \n",
       "\n",
       "      release_date_new month  seasons  \n",
       "9           2015-06-09     6   summer  \n",
       "599         2008-07-16     7   summer  \n",
       "1081        2003-12-01    12   winter  \n",
       "1191        2013-10-18    10   outumn  \n",
       "\n",
       "[4 rows x 21 columns]"
      ]
     },
     "execution_count": 138,
     "metadata": {},
     "output_type": "execute_result"
    }
   ],
   "source": [
    "data[data['vote_average'] >= data['vote_average'].quantile(0.99)]\n",
    "m_filter = ['Inside Out', 'The Dark Knight', '12 Years a Slave', 'BloodRayne', 'The Adventures of Rocky & Bullwinkle',\n",
    "            'Batman Begins', 'The Lord of the Rings: The Return of the King', 'Upside Down', '300', 'Lucky Number Slevin',\n",
    "            'Kill Bill: Vol. 1', 'Upside Down', 'Inside Out', 'Iron Man']\n",
    "\n",
    "data[(data['vote_average'] >= data['vote_average'].quantile(0.99)) & data['original_title'].isin(m_filter)]"
   ]
  },
  {
   "cell_type": "markdown",
   "metadata": {
    "colab_type": "text",
    "id": "MdXsUXbCVqAV"
   },
   "source": [
    "# 27. Какие актеры чаще всего снимаются в одном фильме вместе?\n"
   ]
  },
  {
   "cell_type": "code",
   "execution_count": 142,
   "metadata": {},
   "outputs": [],
   "source": [
    "answers['27']  = 'Daniel Radcliffe & Rupert Grint' # +/- Не успевал к дедлайну, взял командное решение.\n",
    "                                                   # Разобрался как работает. Хорошее решение"
   ]
  },
  {
   "cell_type": "code",
   "execution_count": 140,
   "metadata": {},
   "outputs": [
    {
     "name": "stdout",
     "output_type": "stream",
     "text": [
      "('Daniel Radcliffe', 'Rupert Grint') 8\n",
      "('Daniel Radcliffe', 'Emma Watson') 8\n"
     ]
    }
   ],
   "source": [
    "counter = Counter()\n",
    "for casts in data['cast_new']:\n",
    "    for comb in itertools.combinations(casts,2):\n",
    "        counter[comb] +=1\n",
    "max_value = sorted(counter.values(),reverse = True)[0]\n",
    "for k,v in counter.items():\n",
    "    if v == max_value:\n",
    "        print(k,v)"
   ]
  },
  {
   "cell_type": "markdown",
   "metadata": {
    "colab_type": "text",
    "id": "U0nONFnGVqAX"
   },
   "source": [
    "# Submission"
   ]
  },
  {
   "cell_type": "code",
   "execution_count": 177,
   "metadata": {
    "colab": {},
    "colab_type": "code",
    "id": "IfcaRO9-VqAX",
    "outputId": "0f132912-32bb-4196-c98c-abfbc4ad5a5f"
   },
   "outputs": [
    {
     "data": {
      "text/plain": [
       "{'21': 'Сентябрь',\n",
       " '22': 450,\n",
       " '23': 'Ridley Scott',\n",
       " '24': 'Four By Two Productions',\n",
       " '25': 'Midnight Picture Show',\n",
       " '26': 'Inside Out, The Dark Knight, 12 Years a Slave',\n",
       " '27': 'Daniel Radcliffe & Rupert Grint',\n",
       " '1': 'Pirates of the Caribbean: On Stranger Tides (tt1298650)',\n",
       " '2': 'Gods and Generals (tt0279111)',\n",
       " '3': 'Winnie the Pooh (tt1449283)',\n",
       " '4': 110,\n",
       " '5': 107,\n",
       " '7': 'The Lone Ranger (tt1210819)',\n",
       " '8': 1478,\n",
       " '9': 'The Dark Knight (tt0468569)',\n",
       " '10': 'The Lone Ranger (tt1210819)',\n",
       " '11': 'Drama',\n",
       " '12': 'Drama',\n",
       " '13': 'Peter Jackson',\n",
       " '14': 'Robert Rodriguez',\n",
       " '15': 'Chris Hemsworth',\n",
       " '16': 'Matt Damon',\n",
       " '17': 'Action',\n",
       " '18': 'K-19: The Widowmaker (tt0267626)',\n",
       " '19': 2015,\n",
       " '20': 2014,\n",
       " '6': 'Avatar (tt0499549)'}"
      ]
     },
     "execution_count": 177,
     "metadata": {},
     "output_type": "execute_result"
    }
   ],
   "source": [
    "# в конце можно посмотреть свои ответы к каждому вопросу\n",
    "answers"
   ]
  },
  {
   "cell_type": "code",
   "execution_count": 176,
   "metadata": {
    "colab": {},
    "colab_type": "code",
    "id": "SiRmHPl8VqAd"
   },
   "outputs": [
    {
     "data": {
      "text/plain": [
       "27"
      ]
     },
     "execution_count": 176,
     "metadata": {},
     "output_type": "execute_result"
    }
   ],
   "source": [
    "# и убедиться что ни чего не пропустил)\n",
    "len(answers)"
   ]
  },
  {
   "cell_type": "code",
   "execution_count": null,
   "metadata": {},
   "outputs": [],
   "source": []
  }
 ],
 "metadata": {
  "colab": {
   "name": "Copy of [SF-DST] Movies IMBD v4.1 TEMPLATE.ipynb",
   "provenance": []
  },
  "kernelspec": {
   "display_name": "Python 3",
   "language": "python",
   "name": "python3"
  },
  "language_info": {
   "codemirror_mode": {
    "name": "ipython",
    "version": 3
   },
   "file_extension": ".py",
   "mimetype": "text/x-python",
   "name": "python",
   "nbconvert_exporter": "python",
   "pygments_lexer": "ipython3",
   "version": "3.7.6"
  }
 },
 "nbformat": 4,
 "nbformat_minor": 1
}
